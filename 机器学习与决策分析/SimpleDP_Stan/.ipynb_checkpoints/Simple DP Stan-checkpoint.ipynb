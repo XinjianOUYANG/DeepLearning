{
 "cells": [
  {
   "cell_type": "markdown",
   "metadata": {},
   "source": [
    "# HMC for a Simple Dirichlet Process Model via Stan"
   ]
  },
  {
   "cell_type": "code",
   "execution_count": 6,
   "metadata": {},
   "outputs": [],
   "source": [
    "import stan as pystan\n",
    "import matplotlib.pyplot as plt\n",
    "import seaborn as sns\n",
    "import pandas as pd\n",
    "import numpy as np"
   ]
  },
  {
   "cell_type": "markdown",
   "metadata": {},
   "source": [
    "We will mimic Dirichlet process based Gaussian mixture model using Stan. Since Stan doesn’t provide the Dirichlet Process prior, we mimic it via finite mixture model. The stick-breaking process is achived inside of the stan code.\n",
    "\n",
    "The data $y$ is a mixture of $y_1$, $y_2$ and $y_3$, where $y_{1}\\sim\\mathcal{N}(-3,0.5^2)$, $y_{2}\\sim\\mathcal{N}(0,0.75^2)$, and $y_{3}\\sim\\mathcal{N}(3,1^2)$, and the mixing rate is $\\pi=(0.1, 0.5, 0.4)$. \n",
    "\n",
    "![title](data_plot.png)"
   ]
  },
  {
   "cell_type": "markdown",
   "metadata": {},
   "source": [
    "# Write Model in Stan\n",
    "\n",
    "A Stan model requires at least three blocks, for each of data, parameters, and the model. The data block specifies the types and dimensions of the data that will be used for sampling, and the parameter block specifies the relevant parameters. The distribution statement goes in the model block.\n",
    "\n",
    "If no prior is defined, Stan uses default priors with the specifications uniform(-infinity, +infinity). You can restrict priors using upper or lower when declaring the parameters (i.e. lower = 0> to make sure a parameter is positive)."
   ]
  },
  {
   "cell_type": "code",
   "execution_count": 7,
   "metadata": {},
   "outputs": [],
   "source": [
    "# simple DP example, via Truncated Stick-breaking process\n",
    "\n",
    "model = \"\"\"\n",
    "data{\n",
    "  int<lower=0> C;//maximum num of cludter\n",
    "  int<lower=0> N;//data num\n",
    "  real y[N];\n",
    "}\n",
    "\n",
    "parameters {\n",
    "  real mu_cl[C]; //cluster mean\n",
    "  real <lower=0,upper=1> v[C];\n",
    "  real<lower=0> sigma_cl[C]; // error scale\n",
    "  real<lower=0> alpha; // hyper prior DP(alpha,base)\n",
    "}\n",
    "\n",
    "transformed parameters{\n",
    "  simplex [C] pi;\n",
    "  pi[1] = v[1];\n",
    "\n",
    "  for(j in 2:(C-1)){\n",
    "      pi[j]= v[j]*(1-v[j-1])*pi[j-1]/v[j-1]; \n",
    "  }\n",
    "  pi[C]=1-sum(pi[1:(C-1)]); // to make a simplex.\n",
    "}\n",
    "\n",
    "model {\n",
    "  real a = 1.0;\n",
    "  real b = 1.0;\n",
    "  real ps[C];\n",
    "  sigma_cl ~ inv_gamma(a,b);\n",
    "  mu_cl ~ normal(0,10);\n",
    "  alpha ~ gamma(6,1);\n",
    "  v ~ beta(1,alpha);\n",
    "  \n",
    "  for(i in 1:N){\n",
    "    for(c in 1:C){\n",
    "      ps[c]=log(pi[c])+normal_lpdf(y[i]|mu_cl[c],sigma_cl[c]);\n",
    "    }\n",
    "    target += log_sum_exp(ps);\n",
    "  }\n",
    "\n",
    "}\n",
    "\"\"\""
   ]
  },
  {
   "cell_type": "markdown",
   "metadata": {},
   "source": [
    "# HMC Sampling"
   ]
  },
  {
   "cell_type": "code",
   "execution_count": 8,
   "metadata": {},
   "outputs": [
    {
     "name": "stdout",
     "output_type": "stream",
     "text": [
      "5000\n"
     ]
    }
   ],
   "source": [
    "# Read in data\n",
    "data = np.loadtxt('dat.dat',delimiter=' ',skiprows=1)\n",
    "\n",
    "C = 10 # truncation point for stick-breaking process\n",
    "y = data[:,1]\n",
    "print(len(y))\n",
    "\n",
    "# Put data in a dictionary\n",
    "stanData = {'C': C, 'N': len(y), 'y': y}"
   ]
  },
  {
   "cell_type": "code",
   "execution_count": 9,
   "metadata": {},
   "outputs": [
    {
     "ename": "AttributeError",
     "evalue": "module 'stan' has no attribute 'StanModel'",
     "output_type": "error",
     "traceback": [
      "\u001b[0;31m---------------------------------------------------------------------------\u001b[0m",
      "\u001b[0;31mAttributeError\u001b[0m                            Traceback (most recent call last)",
      "\u001b[0;32m<ipython-input-9-ad941ab4eb5d>\u001b[0m in \u001b[0;36m<module>\u001b[0;34m\u001b[0m\n\u001b[1;32m      1\u001b[0m \u001b[0;31m# Compile the model\u001b[0m\u001b[0;34m\u001b[0m\u001b[0;34m\u001b[0m\u001b[0;34m\u001b[0m\u001b[0m\n\u001b[0;32m----> 2\u001b[0;31m \u001b[0msm\u001b[0m \u001b[0;34m=\u001b[0m \u001b[0mpystan\u001b[0m\u001b[0;34m.\u001b[0m\u001b[0mStanModel\u001b[0m\u001b[0;34m(\u001b[0m\u001b[0mmodel_code\u001b[0m\u001b[0;34m=\u001b[0m\u001b[0mmodel\u001b[0m\u001b[0;34m)\u001b[0m\u001b[0;34m\u001b[0m\u001b[0;34m\u001b[0m\u001b[0m\n\u001b[0m\u001b[1;32m      3\u001b[0m \u001b[0;34m\u001b[0m\u001b[0m\n\u001b[1;32m      4\u001b[0m \u001b[0;31m# Train the model and generate samples\u001b[0m\u001b[0;34m\u001b[0m\u001b[0;34m\u001b[0m\u001b[0;34m\u001b[0m\u001b[0m\n\u001b[1;32m      5\u001b[0m \u001b[0mfit\u001b[0m \u001b[0;34m=\u001b[0m \u001b[0msm\u001b[0m\u001b[0;34m.\u001b[0m\u001b[0msampling\u001b[0m\u001b[0;34m(\u001b[0m\u001b[0mdata\u001b[0m\u001b[0;34m=\u001b[0m\u001b[0mstanData\u001b[0m\u001b[0;34m,\u001b[0m \u001b[0miter\u001b[0m\u001b[0;34m=\u001b[0m\u001b[0;36m1000\u001b[0m\u001b[0;34m,\u001b[0m \u001b[0mchains\u001b[0m\u001b[0;34m=\u001b[0m\u001b[0;36m1\u001b[0m\u001b[0;34m,\u001b[0m \u001b[0mwarmup\u001b[0m\u001b[0;34m=\u001b[0m\u001b[0;36m500\u001b[0m\u001b[0;34m,\u001b[0m \u001b[0mthin\u001b[0m\u001b[0;34m=\u001b[0m\u001b[0;36m1\u001b[0m\u001b[0;34m,\u001b[0m \u001b[0mseed\u001b[0m\u001b[0;34m=\u001b[0m\u001b[0;36m101\u001b[0m\u001b[0;34m)\u001b[0m\u001b[0;34m\u001b[0m\u001b[0;34m\u001b[0m\u001b[0m\n",
      "\u001b[0;31mAttributeError\u001b[0m: module 'stan' has no attribute 'StanModel'"
     ]
    }
   ],
   "source": [
    "# Compile the model\n",
    "sm = pystan.StanModel(model_code=model)\n",
    "\n",
    "# Train the model and generate samples\n",
    "fit = sm.sampling(data=stanData, iter=1000, chains=1, warmup=500, thin=1, seed=101)"
   ]
  },
  {
   "cell_type": "markdown",
   "metadata": {},
   "source": [
    "# Results"
   ]
  },
  {
   "cell_type": "code",
   "execution_count": null,
   "metadata": {},
   "outputs": [],
   "source": [
    "print(fit)"
   ]
  },
  {
   "cell_type": "markdown",
   "metadata": {},
   "source": [
    "Converged lp__ allows greater confidence that the whole sampling process has converged, but the value itself isn't particularly important.\n",
    "\n",
    "n_eff is the effective sample size, which because of correlation between samples, can be significantly lower than the nominal amount of samples generated. The effect of autocorrelation can be mitigated by thinning the Markov chains.\n",
    "\n",
    "Rhat is the Gelman-Rubin convergence statistic, a measure of Markov chain convergence, and corresponds to the scale factor of variance reduction that could be observed if sampling were allowed to continue forever. So if Rhat is approximately 1, you would expect to see no decrease in sampling variance regardless of how long you continue to iterate, and so the Markov chain is likely (but not guaranteed) to have converged."
   ]
  },
  {
   "cell_type": "code",
   "execution_count": null,
   "metadata": {},
   "outputs": [],
   "source": [
    "# Extracting traces\n",
    "pi = fit['pi']\n",
    "mu = fit['mu_cl']\n",
    "lp = fit['lp__']"
   ]
  },
  {
   "cell_type": "markdown",
   "metadata": {},
   "source": [
    "# Plotting Posteriors"
   ]
  },
  {
   "cell_type": "code",
   "execution_count": null,
   "metadata": {},
   "outputs": [],
   "source": [
    "# Define a function that plots the trace and posterior distribution for a given parameter\n",
    "def plot_trace(param, param_name='parameter'):\n",
    "    \"\"\"Plot the trace and posterior of a parameter.\"\"\"\n",
    "    \n",
    "    # Summary statistics\n",
    "    mean = np.mean(param)\n",
    "    median = np.median(param)\n",
    "    cred_min, cred_max = np.percentile(param, 2.5), np.percentile(param, 97.5)\n",
    "    \n",
    "    # Plotting\n",
    "    plt.subplot(2,1,1)\n",
    "    plt.plot(param)\n",
    "    plt.xlabel('samples')\n",
    "    plt.ylabel(param_name)\n",
    "    plt.axhline(mean, color='r', lw=2, linestyle='--')\n",
    "    plt.axhline(median, color='c', lw=2, linestyle='--')\n",
    "    plt.axhline(cred_min, linestyle=':', color='k', alpha=0.2)\n",
    "    plt.axhline(cred_max, linestyle=':', color='k', alpha=0.2)\n",
    "    plt.title('Trace and Posterior Distribution for {}'.format(param_name))\n",
    "\n",
    "    plt.subplot(2,1,2)\n",
    "    plt.hist(param, 30, density=True); sns.kdeplot(param, shade=True)\n",
    "    plt.xlabel(param_name)\n",
    "    plt.ylabel('density')\n",
    "    plt.axvline(mean, color='r', lw=2, linestyle='--',label='mean')\n",
    "    plt.axvline(median, color='c', lw=2, linestyle='--',label='median')\n",
    "    plt.axvline(cred_min, linestyle=':', color='k', alpha=0.2, label=r'95\\% CI')\n",
    "    plt.axvline(cred_max, linestyle=':', color='k', alpha=0.2)\n",
    "    \n",
    "    plt.gcf().tight_layout()\n",
    "    plt.legend()"
   ]
  },
  {
   "cell_type": "code",
   "execution_count": null,
   "metadata": {},
   "outputs": [],
   "source": [
    "# Detect number of clusters\n",
    "plt.boxplot(pi)\n",
    "plt.show()"
   ]
  },
  {
   "cell_type": "code",
   "execution_count": null,
   "metadata": {},
   "outputs": [],
   "source": [
    "plot_trace(mu[:,0], r'$\\mu[1]$') \n",
    "plt.show()\n",
    "plot_trace(mu[:,2], r'$\\mu[3]$') \n",
    "plt.show()\n",
    "plot_trace(mu[:,3], r'$\\mu[4]$') \n",
    "plt.show()\n",
    "plot_trace(lp, r'lp\\_\\_') \n",
    "plt.show()"
   ]
  },
  {
   "cell_type": "code",
   "execution_count": null,
   "metadata": {},
   "outputs": [],
   "source": []
  }
 ],
 "metadata": {
  "interpreter": {
   "hash": "bb2198bf6e8142001011b6ebe5876072bfae2c57fafab7fc5e96e9ae63bd31c0"
  },
  "kernelspec": {
   "display_name": "Python 3",
   "language": "python",
   "name": "python3"
  },
  "language_info": {
   "codemirror_mode": {
    "name": "ipython",
    "version": 3
   },
   "file_extension": ".py",
   "mimetype": "text/x-python",
   "name": "python",
   "nbconvert_exporter": "python",
   "pygments_lexer": "ipython3",
   "version": "3.8.5"
  }
 },
 "nbformat": 4,
 "nbformat_minor": 2
}
