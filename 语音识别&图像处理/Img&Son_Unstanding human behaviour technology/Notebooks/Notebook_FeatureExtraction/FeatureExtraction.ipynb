{
 "cells": [
  {
   "cell_type": "markdown",
   "metadata": {},
   "source": [
    "# <span style=\" display: block; text-align: center; color: #FFFFFF; padding: 0.4em 0.5em;background: #303030;\">  Feature extraction  </span>\n",
    "\n",
    "\n",
    "\n"
   ]
  },
  {
   "cell_type": "markdown",
   "metadata": {},
   "source": [
    "Many pipelines of image processing need a step of Feature Extraction. \n",
    "\n",
    "Here, we will experiment this step through an example using images of trees and sea, such as those:<p/>\n",
    "<img src=\"img/LotsOfImagesTreesAndSea.png\" width=800>\n",
    "<p/>\n",
    "As human beeings, you can easily classify (we may say cluster) those images into 2 groups. Let's see what a basic automatic system can do !"
   ]
  },
  {
   "cell_type": "markdown",
   "metadata": {},
   "source": [
    "\n",
    "The goal of this bureau d'étude is to cluster images from forests and from sea into 2 clusters. This will be made by a 2 steps pipeline:\n",
    "\n",
    "<it><ul>- feature extraction (using LBP)局部二值模式</ul>\n",
    "    <ul>- clustering (using k-means)k近邻法</ul> </it>\n",
    "    \n",
    "<p/>\n",
    "You will code this pipeline in python step by step in the following (sub)sections.\n",
    "\n",
    "To help you, here is a code to fill in. \n",
    "\n",
    "For the first section, we will focus on a single image, to understand the pattern extraction. Whatever image is fine. Choose the one you want!\n",
    "\n",
    "Now you have everything to start! \n",
    "\n"
   ]
  },
  {
   "cell_type": "markdown",
   "metadata": {},
   "source": [
    "![main messages](img/main_messages.jpg)"
   ]
  },
  {
   "cell_type": "markdown",
   "metadata": {},
   "source": [
    "# <span style=\"padding: 0.4em 0.5em; color: #494949; background: #f4f4f4; border-left: solid 5px #7db4e6; border-bottom: solid 3px #d7d7d7;\">Tranfer Learning 迁移学习</span>"
   ]
  },
  {
   "cell_type": "markdown",
   "metadata": {},
   "source": [
    "* [Wiki迁移学习](https://zh.wikipedia.org/wiki/%E8%BF%81%E7%A7%BB%E5%AD%A6%E4%B9%A0)\n",
    "\n",
    "\n",
    "    迁移学习 是属于机器学习的一种研究领域。它专注于存储已有问题的解决模型，并将其利用在其他不同但相关问题上。比如说，用来辨识汽车的知识（或者是模型）也可以被用来提升识别卡车的能力。迁移学习的算法基础可以源自马尔可夫逻辑网络和贝叶斯网络.迁移网络还被利用与发现癌症种类, 建筑物人员限额,普适智能游戏玩家,语句分类和 以及筛选垃圾邮件（短信）。\n",
    "\n",
    "* [简述迁移学习在深度学习中的应用](https://www.jiqizhixin.com/articles/2018-01-04-7)\n",
    "\n",
    "\n",
    "    深度学习中在计算机视觉任务和自然语言处理任务中将预训练的模型作为新模型的起点是一种常用的方法，通常这些预训练的模型在开发神经网络的时候已经消耗了巨大的时间资源和计算资源，迁移学习可以将已习得的强大技能迁移到相关的的问题上。\n",
    "\n"
   ]
  },
  {
   "cell_type": "markdown",
   "metadata": {},
   "source": [
    "# <span style=\"padding: 0.4em 0.5em; color: #494949; background: #f4f4f4; border-left: solid 5px #7db4e6; border-bottom: solid 3px #d7d7d7;\">1. Applying LBP on an image</span>"
   ]
  },
  {
   "cell_type": "markdown",
   "metadata": {},
   "source": [
    "Local Binary Pattern is a usefull feature extractor to get relevant information about patterns that compose an image or a subpart of an image (called cell). \n",
    "\n",
    "[blog1 about LBP](https://senitco.github.io/2017/06/12/image-feature-lbp/)\n",
    "\n",
    "[blog2 about LBP](https://zhuanlan.zhihu.com/p/23287967)\n",
    "\n",
    "In this bureau d'étude, we will consider images with one main information such as a picture of a forest or a picture of the sea (possibly with sky), so that we won't need to cut the images into different cells. The histogram will be computed on the whole image. To say ot differently, there will be just one cell for an image (the cell is the whole image).\n",
    "\n"
   ]
  },
  {
   "cell_type": "code",
   "execution_count": 3,
   "metadata": {},
   "outputs": [],
   "source": [
    "import cv2\n",
    "import numpy as np\n",
    "from matplotlib import pyplot as plt\n",
    "from copy import deepcopy"
   ]
  },
  {
   "cell_type": "markdown",
   "metadata": {},
   "source": [
    "## <span style=\"border-bottom: double 5px #7db4e6; color: #494949;\">1.1. Plot a LBP pattern</span>"
   ]
  },
  {
   "cell_type": "markdown",
   "metadata": {},
   "source": [
    "Each LBP computation associates one integer between 0 and 255 to a pattern in a 3*3 matrix.\n",
    "\n",
    "To be able to understand which pattern are more likely to appear in one image, having a visualization tool of a pattern can be efficient.\n",
    "\n",
    "Fullfill the function that draws the LPB pattern from an integer: <b>def pattern (i)</b>\n",
    "\n",
    "For instance, for the value 151, the binary information is 11101001, so that the pattern is:\n",
    "\n",
    "\n",
    "<img src=\"img/LBP151Example.png\" width=100>\n",
    "\n"
   ]
  },
  {
   "cell_type": "code",
   "execution_count": 4,
   "metadata": {},
   "outputs": [],
   "source": [
    "#-------------------------------\n",
    "# FUNCTIONS\n",
    "#-------------------------------\n",
    "# 1.1 Plot a pattern (i value is between 0 and 255)\n",
    "# def pattern (i) :\n",
    "#     pattern_matrix = np.zeros((3,3))\n",
    "#     temp = bin(i)\n",
    "#     m,n = pattern_matrix.shape()\n",
    "#     for i, j in m,n: \n",
    "#         pattern_matrix[i,j] = temp[3*m+j]\n",
    "#     return pattern_matrix\n",
    "\n",
    "def pattern (i) :\n",
    "    pattern_matrix = np.zeros((3,3))\n",
    "    if (i%2>0):pattern_matrix[0][0]=1\n",
    "    i = i // 2\n",
    "    if (i%2>0):pattern_matrix[0][1]=1\n",
    "    i = i // 2\n",
    "    if (i%2>0):pattern_matrix[0][2]=1\n",
    "    i = i // 2\n",
    "    if (i%2>0):pattern_matrix[1][2]=1\n",
    "    i = i // 2\n",
    "    if (i%2>0):pattern_matrix[2][2]=1\n",
    "    i = i // 2\n",
    "    if (i%2>0):pattern_matrix[2][1]=1\n",
    "    i = i // 2\n",
    "    if (i%2>0):pattern_matrix[2][0]=1\n",
    "    i = i // 2\n",
    "    if (i%2>0):pattern_matrix[1][0]=1\n",
    "    return pattern_matrix"
   ]
  },
  {
   "cell_type": "markdown",
   "metadata": {},
   "source": [
    "\n",
    "<div id=\"back_1\">\n",
    "   <a href=\"#sol_1\">Go to one solution.</a>\n",
    "</div>\n"
   ]
  },
  {
   "cell_type": "markdown",
   "metadata": {},
   "source": [
    "Verify on some different numbers with the code:\n",
    "\n",
    "\n",
    "\n"
   ]
  },
  {
   "cell_type": "code",
   "execution_count": 5,
   "metadata": {},
   "outputs": [
    {
     "name": "stdout",
     "output_type": "stream",
     "text": [
      "\n",
      "The pattern for 134 is:\n",
      "[[0. 1. 1.]\n",
      " [1. 0. 0.]\n",
      " [0. 0. 0.]]\n"
     ]
    }
   ],
   "source": [
    "#-------------------------------\n",
    "# 1.1 LBP: Local Binary Pattern\n",
    "#-------------------------------\n",
    "# From an interger between 0 and 255, plot the corresponding pattern\n",
    "patternNumber = 134\n",
    "print(\"\")\n",
    "print(\"The pattern for \" + str(patternNumber) + \" is:\")\n",
    "print(pattern(patternNumber))"
   ]
  },
  {
   "cell_type": "markdown",
   "metadata": {},
   "source": [
    "<div id=\"back_2a\">\n",
    "    Which are the LBP values that you expect having most for forest images, and for sea images?\n",
    "</div>\n",
    "\n"
   ]
  },
  {
   "cell_type": "markdown",
   "metadata": {},
   "source": [
    "<div id=\"back_2\">\n",
    "   <a href=\"#sol_2\">Go to one solution.</a>\n",
    "</div>"
   ]
  },
  {
   "cell_type": "markdown",
   "metadata": {},
   "source": [
    "## <span style=\"border-bottom: double 5px #7db4e6; color: #494949;\">1.2. LBP computation\n",
    "</span>"
   ]
  },
  {
   "cell_type": "markdown",
   "metadata": {},
   "source": [
    "From the image you have chosen, compute its LBP image.\n",
    "\n",
    "**For each 3*3 patch of the image, replace the value in the middle by its LBP**:\n",
    "\n",
    "\n",
    "<img src=\"img/LBPPipeline.png\" width=600>\n",
    "\n"
   ]
  },
  {
   "cell_type": "code",
   "execution_count": 6,
   "metadata": {},
   "outputs": [],
   "source": [
    "# 1.2 LBP computation on an image\n",
    "def lbp (img) :\n",
    "    img_lbp = np.zeros((len(img)-2, len(img[0])-2))\n",
    "    for i in range (1, len(img)-1):\n",
    "        for j in range(1, len(img[0])-1):\n",
    "            val = 0 # val = lbp\n",
    "            if (img[i-1][j-1]>=img[i][j]): val = val+2**0\n",
    "            if (img[i][j-1]>=img[i][j]): val = val+2**1\n",
    "            if (img[i+1][j-1]>=img[i][j]): val = val+2**2\n",
    "            if (img[i-1][j]>=img[i][j]): val = val+2**7\n",
    "            if (img[i+1][j]>=img[i][j]): val = val+2**3\n",
    "            if (img[i-1][j+1]>=img[i][j]): val = val+2**6\n",
    "            if (img[i][j+1]>=img[i][j]): val = val+2**5\n",
    "            if (img[i+1][j+1]>=img[i][j]): val = val+2**4\n",
    "            # replace the value in the middle by its LBP\n",
    "            img_lbp[i-1][j-1] = val\n",
    "    return img_lbp"
   ]
  },
  {
   "cell_type": "markdown",
   "metadata": {},
   "source": [
    "<div id=\"back_3\">\n",
    "   <a href=\"#sol_3\">Go to one solution.</a>\n",
    "</div>"
   ]
  },
  {
   "cell_type": "markdown",
   "metadata": {},
   "source": [
    "Draw the original image and the corresponding LBP image via the code (replace the path and the name by the image you have chosen):"
   ]
  },
  {
   "cell_type": "code",
   "execution_count": 36,
   "metadata": {},
   "outputs": [
    {
     "name": "stdout",
     "output_type": "stream",
     "text": [
      "\n",
      "The image is 64 pixels wide and 64 pixels high.\n",
      "The LBP image is 62 pixels wide and 62 pixels high.\n",
      "The min value is 15.0 the max value is 255.0\n"
     ]
    },
    {
     "data": {
      "image/png": "[encoded data removed]",
      "text/plain": [
       "<Figure size 432x288 with 2 Axes>"
      ]
     },
     "metadata": {},
     "output_type": "display_data"
    }
   ],
   "source": [
    "#-------------------------------\n",
    "# 1.2 LBP IMAGE\n",
    "#-------------------------------\n",
    "img = cv2.imread('img/imsynth.bmp',cv2.IMREAD_GRAYSCALE) # read the image\n",
    "img_forest = cv2.imread('img/forest1.jpg',cv2.IMREAD_GRAYSCALE) # read the image\n",
    "img_sea = cv2.imread('img/sea1.jpg',cv2.IMREAD_GRAYSCALE) # read the image\n",
    "print(\"\")\n",
    "print(\"The image is \" + str(len(img[0])) + \" pixels wide and \" + str(len(img)) + \" pixels high.\")\n",
    "\n",
    "img_lbp=lbp(img)\n",
    "print(\"The LBP image is \" + str(len(img_lbp[0])) + \" pixels wide and \" + str(len(img_lbp)) + \" pixels high.\")\n",
    "print(\"The min value is \" + str(np.min(img_lbp)) + \" the max value is \" + str(np.max(img_lbp)))\n",
    "plt.subplot(1, 3,1),plt.imshow(img, cmap = 'gray'), plt.xticks([]), plt.yticks([])\n",
    "plt.subplot(1, 3,2),plt.imshow(img_lbp, cmap = 'gray'), plt.xticks([]), plt.yticks([])\n",
    "plt.show()\n",
    "\n"
   ]
  },
  {
   "cell_type": "markdown",
   "metadata": {},
   "source": [
    "## <span style=\"border-bottom: double 5px #7db4e6; color: #494949;\">1.3. Histogram of LBP patterns</span>"
   ]
  },
  {
   "cell_type": "markdown",
   "metadata": {},
   "source": [
    "In our use case, we want to cluster sea and forest images. \n",
    "\n",
    "**A LBP image gives local information of patterns**.(LBP局部信息) If the image has one main information located everywhere on the image, which is the case in a forest image for instance, it makes sense to compute the histogram of the LBP image on the whole image.\n",
    "\n",
    "Fullfill the method hist to compute the histogram on a LBP image and add it to your plot."
   ]
  },
  {
   "cell_type": "markdown",
   "metadata": {},
   "source": [
    "<div id=\"back_4\">\n",
    "   <a href=\"#sol_4\">Go to one solution.</a>\n",
    "</div>"
   ]
  },
  {
   "cell_type": "code",
   "execution_count": 43,
   "metadata": {},
   "outputs": [
    {
     "data": {
      "image/png": "[encoded data removed]",
      "text/plain": [
       "<Figure size 432x288 with 2 Axes>"
      ]
     },
     "metadata": {
      "needs_background": "light"
     },
     "output_type": "display_data"
    }
   ],
   "source": [
    "# 1.3 Histogram computation\n",
    "def histo (img) :\n",
    "    valhisto = np.zeros((256,1))\n",
    "    m,n = len(img), len(img[0])\n",
    "    size = m*n\n",
    "    for i in range(0,size):\n",
    "        pix_val = int(img[i//n][i%m])\n",
    "        valhisto[pix_val] += 1\n",
    "    return valhisto*100/size\n",
    "\n",
    "#-------------------------------\n",
    "# 1.3 LBP HISTOGRAM\n",
    "#-------------------------------\n",
    "h_f = histo(lbp(img_forest))\n",
    "plt.subplot(1,3,1),plt.plot(h_f)\n",
    "# print(\"The most frequent LBP are: \")\n",
    "h_s = histo(lbp(img_sea))\n",
    "plt.subplot(1,3,3),plt.plot(h_s)\n",
    "plt.show()"
   ]
  },
  {
   "cell_type": "markdown",
   "metadata": {},
   "source": [
    "If you took an image of the sea or of a forest, did you previously guess the most frequent LBP right? (see question <a href=\"#back_2a\"> here</a>). To have a better understanding of the pattenrs, let's draw them in next subsection."
   ]
  },
  {
   "cell_type": "markdown",
   "metadata": {},
   "source": [
    "## <span style=\"border-bottom: double 5px #7db4e6; color: #494949;\">1.4 Understand an image via LBP</span>"
   ]
  },
  {
   "cell_type": "markdown",
   "metadata": {},
   "source": [
    "To have a better understanding of the result, analyse the patterns that often appear.\n",
    "\n",
    "You can use the first method you wrote to draw them.\n",
    "\n"
   ]
  },
  {
   "cell_type": "code",
   "execution_count": 44,
   "metadata": {},
   "outputs": [
    {
     "name": "stdout",
     "output_type": "stream",
     "text": [
      "Pattern with [7.75165543] %\n",
      "[[0. 0. 0.]\n",
      " [0. 0. 0.]\n",
      " [0. 0. 0.]]\n",
      "Pattern with [0.94769455] %\n",
      "[[1. 0. 0.]\n",
      " [0. 0. 0.]\n",
      " [0. 0. 0.]]\n",
      "Pattern with [1.50659134] %\n",
      "[[0. 1. 0.]\n",
      " [0. 0. 0.]\n",
      " [0. 0. 0.]]\n",
      "Pattern with [0.73709576] %\n",
      "[[1. 1. 0.]\n",
      " [0. 0. 0.]\n",
      " [0. 0. 0.]]\n",
      "Pattern with [0.86872] %\n",
      "[[0. 0. 1.]\n",
      " [0. 0. 0.]\n",
      " [0. 0. 0.]]\n",
      "Pattern with [0.21869874] %\n",
      "[[1. 0. 1.]\n",
      " [0. 0. 0.]\n",
      " [0. 0. 0.]]\n",
      "Pattern with [0.70874592] %\n",
      "[[0. 1. 1.]\n",
      " [0. 0. 0.]\n",
      " [0. 0. 0.]]\n",
      "Pattern with [1.09146872] %\n",
      "[[1. 1. 1.]\n",
      " [0. 0. 0.]\n",
      " [0. 0. 0.]]\n",
      "Pattern with [1.71314015] %\n",
      "[[0. 0. 0.]\n",
      " [0. 0. 1.]\n",
      " [0. 0. 0.]]\n",
      "Pattern with [0.30374825] %\n",
      "[[1. 0. 0.]\n",
      " [0. 0. 1.]\n",
      " [0. 0. 0.]]\n",
      "Pattern with [0.27539842] %\n",
      "[[0. 1. 0.]\n",
      " [0. 0. 1.]\n",
      " [0. 0. 0.]]\n",
      "Pattern with [0.25919851] %\n",
      "[[1. 1. 0.]\n",
      " [0. 0. 1.]\n",
      " [0. 0. 0.]]\n",
      "Pattern with [0.72697082] %\n",
      "[[0. 0. 1.]\n",
      " [0. 0. 1.]\n",
      " [0. 0. 0.]]\n",
      "Pattern with [0.174149] %\n",
      "[[1. 0. 1.]\n",
      " [0. 0. 1.]\n",
      " [0. 0. 0.]]\n",
      "Pattern with [0.64799627] %\n",
      "[[0. 1. 1.]\n",
      " [0. 0. 1.]\n",
      " [0. 0. 0.]]\n",
      "Pattern with [0.92744467] %\n",
      "[[1. 1. 1.]\n",
      " [0. 0. 1.]\n",
      " [0. 0. 0.]]\n",
      "Pattern with [0.80594537] %\n",
      "[[0. 0. 0.]\n",
      " [0. 0. 0.]\n",
      " [0. 0. 1.]]\n",
      "Pattern with [0.13162424] %\n",
      "[[1. 0. 0.]\n",
      " [0. 0. 0.]\n",
      " [0. 0. 1.]]\n",
      "Pattern with [0.26527347] %\n",
      "[[0. 1. 0.]\n",
      " [0. 0. 0.]\n",
      " [0. 0. 1.]]\n",
      "Pattern with [0.11947431] %\n",
      "[[1. 1. 0.]\n",
      " [0. 0. 0.]\n",
      " [0. 0. 1.]]\n",
      "Pattern with [0.20654881] %\n",
      "[[0. 0. 1.]\n",
      " [0. 0. 0.]\n",
      " [0. 0. 1.]]\n",
      "Pattern with [0.16807403] %\n",
      "[[0. 1. 1.]\n",
      " [0. 0. 0.]\n",
      " [0. 0. 1.]]\n",
      "Pattern with [0.16402406] %\n",
      "[[1. 1. 1.]\n",
      " [0. 0. 0.]\n",
      " [0. 0. 1.]]\n",
      "Pattern with [0.61762145] %\n",
      "[[0. 0. 0.]\n",
      " [0. 0. 1.]\n",
      " [0. 0. 1.]]\n",
      "Pattern with [0.14782415] %\n",
      "[[1. 0. 0.]\n",
      " [0. 0. 1.]\n",
      " [0. 0. 1.]]\n",
      "Pattern with [0.21667375] %\n",
      "[[0. 1. 0.]\n",
      " [0. 0. 1.]\n",
      " [0. 0. 1.]]\n",
      "Pattern with [0.69254602] %\n",
      "[[0. 0. 1.]\n",
      " [0. 0. 1.]\n",
      " [0. 0. 1.]]\n",
      "Pattern with [0.13364923] %\n",
      "[[1. 0. 1.]\n",
      " [0. 0. 1.]\n",
      " [0. 0. 1.]]\n",
      "Pattern with [0.75329567] %\n",
      "[[0. 1. 1.]\n",
      " [0. 0. 1.]\n",
      " [0. 0. 1.]]\n",
      "Pattern with [0.5912966] %\n",
      "[[1. 1. 1.]\n",
      " [0. 0. 1.]\n",
      " [0. 0. 1.]]\n",
      "Pattern with [1.68276532] %\n",
      "[[0. 0. 0.]\n",
      " [0. 0. 0.]\n",
      " [0. 1. 0.]]\n",
      "Pattern with [0.2267987] %\n",
      "[[1. 0. 0.]\n",
      " [0. 0. 0.]\n",
      " [0. 1. 0.]]\n",
      "Pattern with [0.38474779] %\n",
      "[[0. 1. 0.]\n",
      " [0. 0. 0.]\n",
      " [0. 1. 0.]]\n",
      "Pattern with [0.19439888] %\n",
      "[[1. 1. 0.]\n",
      " [0. 0. 0.]\n",
      " [0. 1. 0.]]\n",
      "Pattern with [0.26527347] %\n",
      "[[0. 0. 1.]\n",
      " [0. 0. 0.]\n",
      " [0. 1. 0.]]\n",
      "Pattern with [0.22072373] %\n",
      "[[0. 1. 1.]\n",
      " [0. 0. 0.]\n",
      " [0. 1. 0.]]\n",
      "Pattern with [0.1559241] %\n",
      "[[1. 1. 1.]\n",
      " [0. 0. 0.]\n",
      " [0. 1. 0.]]\n",
      "Pattern with [0.33817306] %\n",
      "[[0. 0. 0.]\n",
      " [0. 0. 1.]\n",
      " [0. 1. 0.]]\n",
      "Pattern with [0.22072373] %\n",
      "[[0. 0. 1.]\n",
      " [0. 0. 1.]\n",
      " [0. 1. 0.]]\n",
      "Pattern with [0.15187413] %\n",
      "[[0. 1. 1.]\n",
      " [0. 0. 1.]\n",
      " [0. 1. 0.]]\n",
      "Pattern with [0.16199907] %\n",
      "[[1. 1. 1.]\n",
      " [0. 0. 1.]\n",
      " [0. 1. 0.]]\n",
      "Pattern with [0.6439463] %\n",
      "[[0. 0. 0.]\n",
      " [0. 0. 0.]\n",
      " [0. 1. 1.]]\n",
      "Pattern with [0.13769921] %\n",
      "[[1. 0. 0.]\n",
      " [0. 0. 0.]\n",
      " [0. 1. 1.]]\n",
      "Pattern with [0.14984914] %\n",
      "[[0. 1. 0.]\n",
      " [0. 0. 0.]\n",
      " [0. 1. 1.]]\n",
      "Pattern with [0.12352429] %\n",
      "[[1. 1. 0.]\n",
      " [0. 0. 0.]\n",
      " [0. 1. 1.]]\n",
      "Pattern with [0.11744932] %\n",
      "[[0. 0. 1.]\n",
      " [0. 0. 0.]\n",
      " [0. 1. 1.]]\n",
      "Pattern with [0.13567422] %\n",
      "[[0. 1. 1.]\n",
      " [0. 0. 0.]\n",
      " [0. 1. 1.]]\n",
      "Pattern with [0.2429986] %\n",
      "[[1. 1. 1.]\n",
      " [0. 0. 0.]\n",
      " [0. 1. 1.]]\n",
      "Pattern with [0.63787133] %\n",
      "[[0. 0. 0.]\n",
      " [0. 0. 1.]\n",
      " [0. 1. 1.]]\n",
      "Pattern with [0.16604905] %\n",
      "[[1. 0. 0.]\n",
      " [0. 0. 1.]\n",
      " [0. 1. 1.]]\n",
      "Pattern with [0.16199907] %\n",
      "[[0. 1. 0.]\n",
      " [0. 0. 1.]\n",
      " [0. 1. 1.]]\n",
      "Pattern with [0.11542434] %\n",
      "[[1. 1. 0.]\n",
      " [0. 0. 1.]\n",
      " [0. 1. 1.]]\n",
      "Pattern with [0.61154648] %\n",
      "[[0. 0. 1.]\n",
      " [0. 0. 1.]\n",
      " [0. 1. 1.]]\n",
      "Pattern with [0.19439888] %\n",
      "[[1. 0. 1.]\n",
      " [0. 0. 1.]\n",
      " [0. 1. 1.]]\n",
      "Pattern with [0.75329567] %\n",
      "[[0. 1. 1.]\n",
      " [0. 0. 1.]\n",
      " [0. 1. 1.]]\n",
      "Pattern with [0.65407124] %\n",
      "[[1. 1. 1.]\n",
      " [0. 0. 1.]\n",
      " [0. 1. 1.]]\n",
      "Pattern with [0.90921977] %\n",
      "[[0. 0. 0.]\n",
      " [0. 0. 0.]\n",
      " [1. 0. 0.]]\n",
      "Pattern with [0.17617399] %\n",
      "[[1. 0. 0.]\n",
      " [0. 0. 0.]\n",
      " [1. 0. 0.]]\n",
      "Pattern with [0.28349837] %\n",
      "[[0. 1. 0.]\n",
      " [0. 0. 0.]\n",
      " [1. 0. 0.]]\n",
      "Pattern with [0.19237389] %\n",
      "[[1. 1. 0.]\n",
      " [0. 0. 0.]\n",
      " [1. 0. 0.]]\n",
      "Pattern with [0.12352429] %\n",
      "[[0. 0. 1.]\n",
      " [0. 0. 0.]\n",
      " [1. 0. 0.]]\n",
      "Pattern with [0.14174918] %\n",
      "[[0. 1. 1.]\n",
      " [0. 0. 0.]\n",
      " [1. 0. 0.]]\n",
      "Pattern with [0.16807403] %\n",
      "[[1. 1. 1.]\n",
      " [0. 0. 0.]\n",
      " [1. 0. 0.]]\n",
      "Pattern with [0.28147338] %\n",
      "[[0. 0. 0.]\n",
      " [0. 0. 1.]\n",
      " [1. 0. 0.]]\n",
      "Pattern with [0.10934937] %\n",
      "[[1. 1. 0.]\n",
      " [0. 0. 1.]\n",
      " [1. 0. 0.]]\n",
      "Pattern with [0.1214993] %\n",
      "[[0. 0. 1.]\n",
      " [0. 0. 1.]\n",
      " [1. 0. 0.]]\n",
      "Pattern with [0.15794909] %\n",
      "[[0. 1. 1.]\n",
      " [0. 0. 1.]\n",
      " [1. 0. 0.]]\n",
      "Pattern with [0.24907357] %\n",
      "[[1. 1. 1.]\n",
      " [0. 0. 1.]\n",
      " [1. 0. 0.]]\n",
      "Pattern with [0.21667375] %\n",
      "[[0. 0. 0.]\n",
      " [0. 0. 0.]\n",
      " [1. 0. 1.]]\n",
      "Pattern with [0.14377417] %\n",
      "[[0. 0. 0.]\n",
      " [0. 0. 1.]\n",
      " [1. 0. 1.]]\n",
      "Pattern with [0.15187413] %\n",
      "[[0. 0. 1.]\n",
      " [0. 0. 1.]\n",
      " [1. 0. 1.]]\n",
      "Pattern with [0.21464877] %\n",
      "[[0. 1. 1.]\n",
      " [0. 0. 1.]\n",
      " [1. 0. 1.]]\n",
      "Pattern with [0.29767329] %\n",
      "[[1. 1. 1.]\n",
      " [0. 0. 1.]\n",
      " [1. 0. 1.]]\n",
      "Pattern with [0.76949558] %\n",
      "[[0. 0. 0.]\n",
      " [0. 0. 0.]\n",
      " [1. 1. 0.]]\n",
      "Pattern with [0.18022396] %\n",
      "[[1. 0. 0.]\n",
      " [0. 0. 0.]\n",
      " [1. 1. 0.]]\n",
      "Pattern with [0.17212401] %\n",
      "[[0. 1. 0.]\n",
      " [0. 0. 0.]\n",
      " [1. 1. 0.]]\n",
      "Pattern with [0.18224895] %\n",
      "[[1. 1. 0.]\n",
      " [0. 0. 0.]\n",
      " [1. 1. 0.]]\n",
      "Pattern with [0.14782415] %\n",
      "[[0. 0. 1.]\n",
      " [0. 0. 0.]\n",
      " [1. 1. 0.]]\n",
      "Pattern with [0.11339935] %\n",
      "[[0. 1. 1.]\n",
      " [0. 0. 0.]\n",
      " [1. 1. 0.]]\n",
      "Pattern with [0.2085738] %\n",
      "[[1. 1. 1.]\n",
      " [0. 0. 0.]\n",
      " [1. 1. 0.]]\n",
      "Pattern with [0.2956483] %\n",
      "[[0. 0. 0.]\n",
      " [0. 0. 1.]\n",
      " [1. 1. 0.]]\n",
      "Pattern with [0.12352429] %\n",
      "[[0. 0. 1.]\n",
      " [0. 0. 1.]\n",
      " [1. 1. 0.]]\n",
      "Pattern with [0.10732438] %\n",
      "[[0. 1. 1.]\n",
      " [0. 0. 1.]\n",
      " [1. 1. 0.]]\n",
      "Pattern with [0.34019804] %\n",
      "[[1. 1. 1.]\n",
      " [0. 0. 1.]\n",
      " [1. 1. 0.]]\n",
      "Pattern with [0.85859506] %\n",
      "[[0. 0. 0.]\n",
      " [0. 0. 0.]\n",
      " [1. 1. 1.]]\n",
      "Pattern with [0.16402406] %\n",
      "[[1. 0. 0.]\n",
      " [0. 0. 0.]\n",
      " [1. 1. 1.]]\n",
      "Pattern with [0.19642387] %\n",
      "[[0. 1. 0.]\n",
      " [0. 0. 0.]\n",
      " [1. 1. 1.]]\n",
      "Pattern with [0.17009902] %\n",
      "[[1. 1. 0.]\n",
      " [0. 0. 0.]\n",
      " [1. 1. 1.]]\n",
      "Pattern with [0.15997408] %\n",
      "[[0. 0. 1.]\n",
      " [0. 0. 0.]\n",
      " [1. 1. 1.]]\n",
      "Pattern with [0.18224895] %\n",
      "[[0. 1. 1.]\n",
      " [0. 0. 0.]\n",
      " [1. 1. 1.]]\n",
      "Pattern with [0.57509669] %\n",
      "[[1. 1. 1.]\n",
      " [0. 0. 0.]\n",
      " [1. 1. 1.]]\n",
      "Pattern with [0.83632019] %\n",
      "[[0. 0. 0.]\n",
      " [0. 0. 1.]\n",
      " [1. 1. 1.]]\n",
      "Pattern with [0.2956483] %\n",
      "[[1. 0. 0.]\n",
      " [0. 0. 1.]\n",
      " [1. 1. 1.]]\n",
      "Pattern with [0.13769921] %\n",
      "[[0. 1. 0.]\n",
      " [0. 0. 1.]\n",
      " [1. 1. 1.]]\n",
      "Pattern with [0.35842294] %\n",
      "[[1. 1. 0.]\n",
      " [0. 0. 1.]\n",
      " [1. 1. 1.]]\n",
      "Pattern with [0.55889679] %\n",
      "[[0. 0. 1.]\n",
      " [0. 0. 1.]\n",
      " [1. 1. 1.]]\n",
      "Pattern with [0.34424802] %\n",
      "[[1. 0. 1.]\n",
      " [0. 0. 1.]\n",
      " [1. 1. 1.]]\n",
      "Pattern with [0.56699674] %\n",
      "[[0. 1. 1.]\n",
      " [0. 0. 1.]\n",
      " [1. 1. 1.]]\n",
      "Pattern with [1.81438957] %\n",
      "[[1. 1. 1.]\n",
      " [0. 0. 1.]\n",
      " [1. 1. 1.]]\n",
      "Pattern with [1.77996477] %\n",
      "[[0. 0. 0.]\n",
      " [1. 0. 0.]\n",
      " [0. 0. 0.]]\n",
      "Pattern with [0.75127068] %\n",
      "[[1. 0. 0.]\n",
      " [1. 0. 0.]\n",
      " [0. 0. 0.]]\n",
      "Pattern with [0.2774234] %\n",
      "[[0. 1. 0.]\n",
      " [1. 0. 0.]\n",
      " [0. 0. 0.]]\n",
      "Pattern with [0.59534658] %\n",
      "[[1. 1. 0.]\n",
      " [1. 0. 0.]\n",
      " [0. 0. 0.]]\n",
      "Pattern with [0.30982322] %\n",
      "[[0. 0. 1.]\n",
      " [1. 0. 0.]\n",
      " [0. 0. 0.]]\n",
      "Pattern with [0.19844886] %\n",
      "[[1. 0. 1.]\n",
      " [1. 0. 0.]\n",
      " [0. 0. 0.]]\n",
      "Pattern with [0.25109856] %\n",
      "[[0. 1. 1.]\n",
      " [1. 0. 0.]\n",
      " [0. 0. 0.]]\n",
      "Pattern with [1.08741875] %\n",
      "[[1. 1. 1.]\n",
      " [1. 0. 0.]\n",
      " [0. 0. 0.]]\n",
      "Pattern with [0.55079683] %\n",
      "[[0. 0. 0.]\n",
      " [1. 0. 1.]\n",
      " [0. 0. 0.]]\n",
      "Pattern with [0.20654881] %\n",
      "[[1. 0. 0.]\n",
      " [1. 0. 1.]\n",
      " [0. 0. 0.]]\n",
      "Pattern with [0.21464877] %\n",
      "[[1. 1. 0.]\n",
      " [1. 0. 1.]\n",
      " [0. 0. 0.]]\n",
      "Pattern with [0.21464877] %\n",
      "[[0. 0. 1.]\n",
      " [1. 0. 1.]\n",
      " [0. 0. 0.]]\n",
      "Pattern with [0.2085738] %\n",
      "[[1. 0. 1.]\n",
      " [1. 0. 1.]\n",
      " [0. 0. 0.]]\n",
      "Pattern with [0.19237389] %\n",
      "[[0. 1. 1.]\n",
      " [1. 0. 1.]\n",
      " [0. 0. 0.]]\n",
      "Pattern with [1.07324383] %\n",
      "[[1. 1. 1.]\n",
      " [1. 0. 1.]\n",
      " [0. 0. 0.]]\n",
      "Pattern with [0.30779823] %\n",
      "[[0. 0. 0.]\n",
      " [1. 0. 0.]\n",
      " [0. 0. 1.]]\n",
      "Pattern with [0.10934937] %\n",
      "[[1. 0. 0.]\n",
      " [1. 0. 0.]\n",
      " [0. 0. 1.]]\n",
      "Pattern with [0.16402406] %\n",
      "[[1. 1. 0.]\n",
      " [1. 0. 0.]\n",
      " [0. 0. 1.]]\n",
      "Pattern with [0.2429986] %\n",
      "[[1. 1. 1.]\n",
      " [1. 0. 0.]\n",
      " [0. 0. 1.]]\n",
      "Pattern with [0.18427394] %\n",
      "[[0. 0. 0.]\n",
      " [1. 0. 1.]\n",
      " [0. 0. 1.]]\n",
      "Pattern with [0.13769921] %\n",
      "[[1. 1. 0.]\n",
      " [1. 0. 1.]\n",
      " [0. 0. 1.]]\n",
      "Pattern with [0.17819898] %\n",
      "[[0. 0. 1.]\n",
      " [1. 0. 1.]\n",
      " [0. 0. 1.]]\n",
      "Pattern with [0.1397242] %\n",
      "[[1. 0. 1.]\n",
      " [1. 0. 1.]\n",
      " [0. 0. 1.]]\n",
      "Pattern with [0.19034891] %\n",
      "[[0. 1. 1.]\n",
      " [1. 0. 1.]\n",
      " [0. 0. 1.]]\n",
      "Pattern with [0.69052103] %\n",
      "[[1. 1. 1.]\n",
      " [1. 0. 1.]\n",
      " [0. 0. 1.]]\n",
      "Pattern with [0.26527347] %\n",
      "[[0. 0. 0.]\n",
      " [1. 0. 0.]\n",
      " [0. 1. 0.]]\n",
      "Pattern with [0.23489865] %\n",
      "[[1. 0. 0.]\n",
      " [1. 0. 0.]\n",
      " [0. 1. 0.]]\n",
      "Pattern with [0.10124942] %\n",
      "[[0. 1. 0.]\n",
      " [1. 0. 0.]\n",
      " [0. 1. 0.]]\n",
      "Pattern with [0.14782415] %\n",
      "[[1. 1. 0.]\n",
      " [1. 0. 0.]\n",
      " [0. 1. 0.]]\n",
      "Pattern with [0.15389912] %\n",
      "[[1. 1. 1.]\n",
      " [1. 0. 0.]\n",
      " [0. 1. 0.]]\n",
      "Pattern with [0.24907357] %\n",
      "[[1. 1. 1.]\n",
      " [1. 0. 1.]\n",
      " [0. 1. 0.]]\n",
      "Pattern with [0.21464877] %\n",
      "[[0. 0. 0.]\n",
      " [1. 0. 0.]\n",
      " [0. 1. 1.]]\n",
      "Pattern with [0.18224895] %\n",
      "[[1. 0. 0.]\n",
      " [1. 0. 0.]\n",
      " [0. 1. 1.]]\n",
      "Pattern with [0.13567422] %\n",
      "[[1. 1. 0.]\n",
      " [1. 0. 0.]\n",
      " [0. 1. 1.]]\n",
      "Pattern with [0.33412308] %\n",
      "[[1. 1. 1.]\n",
      " [1. 0. 0.]\n",
      " [0. 1. 1.]]\n",
      "Pattern with [0.16807403] %\n",
      "[[0. 0. 0.]\n",
      " [1. 0. 1.]\n",
      " [0. 1. 1.]]\n",
      "Pattern with [0.17212401] %\n",
      "[[1. 0. 0.]\n",
      " [1. 0. 1.]\n",
      " [0. 1. 1.]]\n",
      "Pattern with [0.1397242] %\n",
      "[[1. 1. 0.]\n",
      " [1. 0. 1.]\n",
      " [0. 1. 1.]]\n",
      "Pattern with [0.12757427] %\n",
      "[[0. 0. 1.]\n",
      " [1. 0. 1.]\n",
      " [0. 1. 1.]]\n",
      "Pattern with [0.31184821] %\n",
      "[[1. 0. 1.]\n",
      " [1. 0. 1.]\n",
      " [0. 1. 1.]]\n",
      "Pattern with [0.18832392] %\n",
      "[[0. 1. 1.]\n",
      " [1. 0. 1.]\n",
      " [0. 1. 1.]]\n",
      "Pattern with [0.96794443] %\n",
      "[[1. 1. 1.]\n",
      " [1. 0. 1.]\n",
      " [0. 1. 1.]]\n",
      "Pattern with [0.69862098] %\n",
      "[[0. 0. 0.]\n",
      " [1. 0. 0.]\n",
      " [1. 0. 0.]]\n",
      "Pattern with [0.67634611] %\n",
      "[[1. 0. 0.]\n",
      " [1. 0. 0.]\n",
      " [1. 0. 0.]]\n",
      "Pattern with [0.22882368] %\n",
      "[[0. 1. 0.]\n",
      " [1. 0. 0.]\n",
      " [1. 0. 0.]]\n",
      "Pattern with [0.74114574] %\n",
      "[[1. 1. 0.]\n",
      " [1. 0. 0.]\n",
      " [1. 0. 0.]]\n",
      "Pattern with [0.15794909] %\n",
      "[[0. 0. 1.]\n",
      " [1. 0. 0.]\n",
      " [1. 0. 0.]]\n",
      "Pattern with [0.17617399] %\n",
      "[[1. 0. 1.]\n",
      " [1. 0. 0.]\n",
      " [1. 0. 0.]]\n",
      "Pattern with [0.15794909] %\n",
      "[[0. 1. 1.]\n",
      " [1. 0. 0.]\n",
      " [1. 0. 0.]]\n",
      "Pattern with [0.61357147] %\n",
      "[[1. 1. 1.]\n",
      " [1. 0. 0.]\n",
      " [1. 0. 0.]]\n",
      "Pattern with [0.19034891] %\n",
      "[[0. 0. 0.]\n",
      " [1. 0. 1.]\n",
      " [1. 0. 0.]]\n",
      "Pattern with [0.13769921] %\n",
      "[[1. 0. 0.]\n",
      " [1. 0. 1.]\n",
      " [1. 0. 0.]]\n",
      "Pattern with [0.20047385] %\n",
      "[[1. 1. 0.]\n",
      " [1. 0. 1.]\n",
      " [1. 0. 0.]]\n",
      "Pattern with [0.11137436] %\n",
      "[[0. 0. 1.]\n",
      " [1. 0. 1.]\n",
      " [1. 0. 0.]]\n",
      "Pattern with [0.17819898] %\n",
      "[[1. 0. 1.]\n",
      " [1. 0. 1.]\n",
      " [1. 0. 0.]]\n",
      "Pattern with [0.15187413] %\n",
      "[[0. 1. 1.]\n",
      " [1. 0. 1.]\n",
      " [1. 0. 0.]]\n",
      "Pattern with [0.76342061] %\n",
      "[[1. 1. 1.]\n",
      " [1. 0. 1.]\n",
      " [1. 0. 0.]]\n",
      "Pattern with [0.14984914] %\n",
      "[[0. 0. 0.]\n",
      " [1. 0. 0.]\n",
      " [1. 0. 1.]]\n",
      "Pattern with [0.16604905] %\n",
      "[[1. 0. 0.]\n",
      " [1. 0. 0.]\n",
      " [1. 0. 1.]]\n",
      "Pattern with [0.24907357] %\n",
      "[[1. 1. 0.]\n",
      " [1. 0. 0.]\n",
      " [1. 0. 1.]]\n",
      "Pattern with [0.25919851] %\n",
      "[[1. 1. 1.]\n",
      " [1. 0. 0.]\n",
      " [1. 0. 1.]]\n",
      "Pattern with [0.18629893] %\n",
      "[[0. 0. 0.]\n",
      " [1. 0. 1.]\n",
      " [1. 0. 1.]]\n",
      "Pattern with [0.18022396] %\n",
      "[[1. 0. 0.]\n",
      " [1. 0. 1.]\n",
      " [1. 0. 1.]]\n",
      "Pattern with [0.11137436] %\n",
      "[[0. 1. 0.]\n",
      " [1. 0. 1.]\n",
      " [1. 0. 1.]]\n",
      "Pattern with [0.26932345] %\n",
      "[[1. 1. 0.]\n",
      " [1. 0. 1.]\n",
      " [1. 0. 1.]]\n",
      "Pattern with [0.2085738] %\n",
      "[[0. 0. 1.]\n",
      " [1. 0. 1.]\n",
      " [1. 0. 1.]]\n",
      "Pattern with [0.48599721] %\n",
      "[[1. 0. 1.]\n",
      " [1. 0. 1.]\n",
      " [1. 0. 1.]]\n",
      "Pattern with [0.30172327] %\n",
      "[[0. 1. 1.]\n",
      " [1. 0. 1.]\n",
      " [1. 0. 1.]]\n",
      "Pattern with [1.73541502] %\n",
      "[[1. 1. 1.]\n",
      " [1. 0. 1.]\n",
      " [1. 0. 1.]]\n",
      "Pattern with [0.69052103] %\n",
      "[[0. 0. 0.]\n",
      " [1. 0. 0.]\n",
      " [1. 1. 0.]]\n",
      "Pattern with [0.90921977] %\n",
      "[[1. 0. 0.]\n",
      " [1. 0. 0.]\n",
      " [1. 1. 0.]]\n",
      "Pattern with [0.17212401] %\n",
      "[[0. 1. 0.]\n",
      " [1. 0. 0.]\n",
      " [1. 1. 0.]]\n",
      "Pattern with [0.7127959] %\n",
      "[[1. 1. 0.]\n",
      " [1. 0. 0.]\n",
      " [1. 1. 0.]]\n",
      "Pattern with [0.17819898] %\n",
      "[[0. 0. 1.]\n",
      " [1. 0. 0.]\n",
      " [1. 1. 0.]]\n",
      "Pattern with [0.2429986] %\n",
      "[[1. 0. 1.]\n",
      " [1. 0. 0.]\n",
      " [1. 1. 0.]]\n",
      "Pattern with [0.13769921] %\n",
      "[[0. 1. 1.]\n",
      " [1. 0. 0.]\n",
      " [1. 1. 0.]]\n",
      "Pattern with [0.67634611] %\n",
      "[[1. 1. 1.]\n",
      " [1. 0. 0.]\n",
      " [1. 1. 0.]]\n",
      "Pattern with [0.174149] %\n",
      "[[0. 0. 0.]\n",
      " [1. 0. 1.]\n",
      " [1. 1. 0.]]\n",
      "Pattern with [0.17009902] %\n",
      "[[1. 0. 0.]\n",
      " [1. 0. 1.]\n",
      " [1. 1. 0.]]\n",
      "Pattern with [0.21667375] %\n",
      "[[1. 1. 0.]\n",
      " [1. 0. 1.]\n",
      " [1. 1. 0.]]\n",
      "Pattern with [0.31184821] %\n",
      "[[1. 0. 1.]\n",
      " [1. 0. 1.]\n",
      " [1. 1. 0.]]\n",
      "Pattern with [0.15187413] %\n",
      "[[0. 1. 1.]\n",
      " [1. 0. 1.]\n",
      " [1. 1. 0.]]\n",
      "Pattern with [1.05704392] %\n",
      "[[1. 1. 1.]\n",
      " [1. 0. 1.]\n",
      " [1. 1. 0.]]\n",
      "Pattern with [0.86872] %\n",
      "[[0. 0. 0.]\n",
      " [1. 0. 0.]\n",
      " [1. 1. 1.]]\n",
      "Pattern with [0.55282182] %\n",
      "[[1. 0. 0.]\n",
      " [1. 0. 0.]\n",
      " [1. 1. 1.]]\n",
      "Pattern with [0.16807403] %\n",
      "[[0. 1. 0.]\n",
      " [1. 0. 0.]\n",
      " [1. 1. 1.]]\n",
      "Pattern with [0.67229613] %\n",
      "[[1. 1. 0.]\n",
      " [1. 0. 0.]\n",
      " [1. 1. 1.]]\n",
      "Pattern with [0.2085738] %\n",
      "[[0. 0. 1.]\n",
      " [1. 0. 0.]\n",
      " [1. 1. 1.]]\n",
      "Pattern with [0.28349837] %\n",
      "[[1. 0. 1.]\n",
      " [1. 0. 0.]\n",
      " [1. 1. 1.]]\n",
      "Pattern with [0.28147338] %\n",
      "[[0. 1. 1.]\n",
      " [1. 0. 0.]\n",
      " [1. 1. 1.]]\n",
      "Pattern with [1.7050402] %\n",
      "[[1. 1. 1.]\n",
      " [1. 0. 0.]\n",
      " [1. 1. 1.]]\n",
      "Pattern with [0.96389446] %\n",
      "[[0. 0. 0.]\n",
      " [1. 0. 1.]\n",
      " [1. 1. 1.]]\n",
      "Pattern with [0.72697082] %\n",
      "[[1. 0. 0.]\n",
      " [1. 0. 1.]\n",
      " [1. 1. 1.]]\n",
      "Pattern with [0.17819898] %\n",
      "[[0. 1. 0.]\n",
      " [1. 0. 1.]\n",
      " [1. 1. 1.]]\n",
      "Pattern with [1.03679404] %\n",
      "[[1. 1. 0.]\n",
      " [1. 0. 1.]\n",
      " [1. 1. 1.]]\n",
      "Pattern with [0.66419618] %\n",
      "[[0. 0. 1.]\n",
      " [1. 0. 1.]\n",
      " [1. 1. 1.]]\n",
      "Pattern with [1.66656542] %\n",
      "[[1. 0. 1.]\n",
      " [1. 0. 1.]\n",
      " [1. 1. 1.]]\n",
      "Pattern with [0.89706984] %\n",
      "[[0. 1. 1.]\n",
      " [1. 0. 1.]\n",
      " [1. 1. 1.]]\n",
      "Pattern with [9.04562299] %\n",
      "[[1. 1. 1.]\n",
      " [1. 0. 1.]\n",
      " [1. 1. 1.]]\n"
     ]
    }
   ],
   "source": [
    "#-------------------------------\n",
    "# 1.4 UNDERSTAND AN IMAGE VIA LBP: MAIN PATTERNS OF THE IMAGE\n",
    "#-------------------------------\n",
    "threshold_pattern = 0.1\n",
    "# i 为像素值\n",
    "for i in range (0, 256):\n",
    "    if h[i]>threshold_pattern:\n",
    "        print(\"Pattern with \" + str(h[i]) + \" %\")\n",
    "        print(pattern(i))"
   ]
  },
  {
   "cell_type": "markdown",
   "metadata": {},
   "source": [
    "Do you now understand why those patterns are the most frequent in you image?"
   ]
  },
  {
   "cell_type": "markdown",
   "metadata": {},
   "source": [
    "# <span style=\"padding: 0.4em 0.5em; color: #494949; background: #f4f4f4; border-left: solid 5px #7db4e6; border-bottom: solid 3px #d7d7d7;\">2. Cluster a set of images</span>"
   ]
  },
  {
   "cell_type": "markdown",
   "metadata": {},
   "source": [
    "<p><b>用机器学习算法进行训练分类</b></p>\n",
    "\n",
    "In this section, you will apply LBP feature extraction on many images to analyse them. \n",
    "\n",
    "We will choose grey-level images of the sea and of forests. Find such images on the net (at least 5 of each type) and fullfill the variable listFiles.\n",
    "\n"
   ]
  },
  {
   "cell_type": "code",
   "execution_count": 45,
   "metadata": {},
   "outputs": [
    {
     "name": "stdout",
     "output_type": "stream",
     "text": [
      "We will analyse 14 files.\n"
     ]
    }
   ],
   "source": [
    "#-------------------------------\n",
    "# 2.1 SEVERAL IMAGES\n",
    "#-------------------------------\n",
    "listFiles = ['img/forest1.jpg', 'img/sea2.jpg', 'img/forest2.jpg',  'img/sea4.jpg', 'img/forest4.jpg', 'img/forest5.jpg', 'img/forest6.jpg','img/forest3.jpg',  'img/forest7.jpg', 'img/sea1.jpg',  'img/sea3.jpg',  'img/sea5.jpeg', 'img/sea6.jpeg', 'img/sea7.jpg']\n",
    "nbFiles = len(listFiles)\n",
    "print(\"We will analyse \" + str(nbFiles) + \" files.\")"
   ]
  },
  {
   "cell_type": "markdown",
   "metadata": {},
   "source": [
    "## <span style=\"border-bottom: double 5px #7db4e6; color: #494949;\">2.1. Many images: visualization</span>"
   ]
  },
  {
   "cell_type": "markdown",
   "metadata": {},
   "source": [
    "The first step is to get LBP histogram from those images and visualize the results."
   ]
  },
  {
   "cell_type": "code",
   "execution_count": 49,
   "metadata": {},
   "outputs": [
    {
     "name": "stdout",
     "output_type": "stream",
     "text": [
      "The image number 0 is 281 pixels wide and 179 pixels high.\n",
      "The image number 1 is 265 pixels wide and 190 pixels high.\n",
      "The image number 2 is 612 pixels wide and 467 pixels high.\n",
      "The image number 3 is 1550 pixels wide and 804 pixels high.\n",
      "The image number 4 is 1800 pixels wide and 1198 pixels high.\n",
      "The image number 5 is 750 pixels wide and 500 pixels high.\n",
      "The image number 6 is 312 pixels wide and 162 pixels high.\n",
      "The image number 7 is 960 pixels wide and 640 pixels high.\n",
      "The image number 8 is 310 pixels wide and 162 pixels high.\n",
      "The image number 9 is 259 pixels wide and 194 pixels high.\n",
      "The image number 10 is 275 pixels wide and 184 pixels high.\n",
      "The image number 11 is 1000 pixels wide and 638 pixels high.\n",
      "The image number 12 is 275 pixels wide and 183 pixels high.\n",
      "The image number 13 is 1300 pixels wide and 866 pixels high.\n"
     ]
    },
    {
     "data": {
      "image/png": "[encoded data removed]",
      "text/plain": [
       "<Figure size 432x288 with 42 Axes>"
      ]
     },
     "metadata": {
      "needs_background": "light"
     },
     "output_type": "display_data"
    }
   ],
   "source": [
    "line = nbFiles//2\n",
    "hist_matrix = np.zeros((nbFiles, 256))\n",
    "\n",
    "for f in range (0,nbFiles):\n",
    "    i = f//2\n",
    "    j = f%2\n",
    "    img = cv2.imread(listFiles[f],cv2.IMREAD_GRAYSCALE)\n",
    "    print(\"The image number \" + str(f) + \" is \" + str(len(img[0])) + \" pixels wide and \" + str(len(img)) + \" pixels high.\")\n",
    "    plt.subplot(line,3*2,i*3*2+3*j+1),plt.imshow(img, cmap = 'gray'), plt.xticks([]), plt.yticks([])\n",
    "    img_lbp=lbp(img)\n",
    "    plt.subplot(line,3*2,i*3*2+3*j+2),plt.imshow(img_lbp, cmap = 'gray'), plt.xticks([]), plt.yticks([])\n",
    "    h = histo(img_lbp)\n",
    "    hist_matrix[f]= h.flatten()\n",
    "    plt.subplot(line,3*2,i*3*2+3*j+3),plt.plot(h)\n",
    "    \n",
    "# for f in range (0,nbFiles):\n",
    "#     i = f//2\n",
    "#     j = f%2\n",
    "#     img = cv2.imread(listFiles[f],cv2.IMREAD_GRAYSCALE)\n",
    "#     print(\"The image number \" + str(f) + \" is \" + str(len(img[0])) + \" pixels wide and \" + str(len(img)) + \" pixels high.\")\n",
    "#     plt.subplot(line,3*2,i*3*2+3*j+1),plt.imshow(img, cmap = 'gray'), plt.xticks([]), plt.yticks([])\n",
    "#     img_lbp=lbp(img)\n",
    "#     plt.subplot(line,3*2,i*3*2+3*j+2),plt.imshow(img_lbp, cmap = 'gray'), plt.xticks([]), plt.yticks([])\n",
    "#     h = histo(img_lbp).flatten()\n",
    "#     hist_matrix[f]= h\n",
    "#     plt.subplot(line,3*2,i*3*2+3*j+3),plt.plot(h)"
   ]
  },
  {
   "cell_type": "markdown",
   "metadata": {
    "tags": [
     "hide-cell"
    ]
   },
   "source": [
    "<div id=\"back_5\">\n",
    "   <a href=\"#sol_5\">Go to one solution.</a>\n",
    "</div>"
   ]
  },
  {
   "cell_type": "markdown",
   "metadata": {},
   "source": [
    "What do you observe?"
   ]
  },
  {
   "cell_type": "markdown",
   "metadata": {},
   "source": [
    "## <span style=\"border-bottom: double 5px #7db4e6; color: #494949;\">2.2. Comparison of LBP histograms</span>"
   ]
  },
  {
   "cell_type": "markdown",
   "metadata": {},
   "source": [
    "Before applying automatic clustering methods, we can compare the distances between the images (more precisely between the various LBP histograms).\n",
    "\n",
    "Fullfill the following code and analyse the results:\n",
    "\n"
   ]
  },
  {
   "cell_type": "code",
   "execution_count": 50,
   "metadata": {},
   "outputs": [
    {
     "name": "stdout",
     "output_type": "stream",
     "text": [
      "[[  0.  67.  25. 122.  59.  38.  26.  25.  26.  84.  85.  76.  87.  93.]\n",
      " [  0.   0.  63.  80.  61.  69.  66.  81.  75.  38.  37.  34.  34.  53.]\n",
      " [  0.   0.   0. 113.  38.  24.  17.  47.  22.  82.  80.  69.  82.  91.]\n",
      " [  0.   0.   0.   0.  98. 115. 118. 135. 122.  76.  73.  80.  70.  89.]\n",
      " [  0.   0.   0.   0.   0.  38.  42.  79.  52.  77.  73.  59.  73.  83.]\n",
      " [  0.   0.   0.   0.   0.   0.  24.  58.  27.  89.  86.  75.  89.  95.]\n",
      " [  0.   0.   0.   0.   0.   0.   0.  50.  20.  86.  85.  75.  87.  92.]\n",
      " [  0.   0.   0.   0.   0.   0.   0.   0.  43.  94.  96.  88.  97. 105.]\n",
      " [  0.   0.   0.   0.   0.   0.   0.   0.   0.  93.  91.  82.  94. 100.]\n",
      " [  0.   0.   0.   0.   0.   0.   0.   0.   0.   0.  38.  42.  34.  66.]\n",
      " [  0.   0.   0.   0.   0.   0.   0.   0.   0.   0.   0.  27.  23.  43.]\n",
      " [  0.   0.   0.   0.   0.   0.   0.   0.   0.   0.   0.   0.  28.  40.]\n",
      " [  0.   0.   0.   0.   0.   0.   0.   0.   0.   0.   0.   0.   0.  48.]\n",
      " [  0.   0.   0.   0.   0.   0.   0.   0.   0.   0.   0.   0.   0.   0.]]\n"
     ]
    }
   ],
   "source": [
    "#-------------------------------\n",
    "# 2.2 COMPARISON OF LBP HISTOGRAMS\n",
    "#-------------------------------\n",
    "dist_matrix = np.zeros((len(hist_matrix), len(hist_matrix)))\n",
    "for i in range (0,len(hist_matrix)):\n",
    "    for j in range (i+1,len(hist_matrix)):\n",
    "        dist_matrix[i][j] = int(np.sum(np.absolute(hist_matrix[i]-hist_matrix[j])))\n",
    "print(dist_matrix)"
   ]
  },
  {
   "cell_type": "markdown",
   "metadata": {},
   "source": [
    "<div id=\"back_6\">\n",
    "   <a href=\"#sol_6\">Go to one solution.</a>\n",
    "</div>"
   ]
  },
  {
   "cell_type": "markdown",
   "metadata": {},
   "source": [
    "\n",
    "## <span style=\"border-bottom: double 5px #7db4e6; color: #494949;\">2.3. Automatic Clustering</span>"
   ]
  },
  {
   "cell_type": "markdown",
   "metadata": {},
   "source": [
    "As you notice previously, LBP histogram from forest images and rather different than LBP histogram of sea images.\n",
    "\n",
    "Use **k-means clustering** to get 2 cluster and verify that one cluster get the forest images and the other one the sea images:"
   ]
  },
  {
   "cell_type": "code",
   "execution_count": 52,
   "metadata": {},
   "outputs": [
    {
     "name": "stdout",
     "output_type": "stream",
     "text": [
      "(14, 256)\n",
      "(14, 1)\n",
      "(2, 256)\n",
      "[[1]\n",
      " [0]\n",
      " [1]\n",
      " [0]\n",
      " [1]\n",
      " [1]\n",
      " [1]\n",
      " [1]\n",
      " [1]\n",
      " [0]\n",
      " [0]\n",
      " [0]\n",
      " [0]\n",
      " [0]]\n",
      "Cluster 1: \n",
      "img/sea2.jpg\n",
      "img/sea4.jpg\n",
      "img/sea1.jpg\n",
      "img/sea3.jpg\n",
      "img/sea5.jpeg\n",
      "img/sea6.jpeg\n",
      "img/sea7.jpg\n",
      "Cluster 2: \n",
      "img/forest1.jpg\n",
      "img/forest2.jpg\n",
      "img/forest4.jpg\n",
      "img/forest5.jpg\n",
      "img/forest6.jpg\n",
      "img/forest3.jpg\n",
      "img/forest7.jpg\n"
     ]
    }
   ],
   "source": [
    "#-------------------------------\n",
    "# 2.3 AUTOMATIC CLUSTERING\n",
    "#-------------------------------\n",
    "criteria = (cv2.TERM_CRITERIA_EPS + cv2.TERM_CRITERIA_MAX_ITER, 10, 1.0)\n",
    "K = 2\n",
    "z = hist_matrix\n",
    "z = np.float32(z)\n",
    "print(z.shape)\n",
    "compactness,labels,centers=cv2.kmeans(z,K,None,criteria,10,cv2.KMEANS_RANDOM_CENTERS)\n",
    "print(labels.shape)\n",
    "print(centers.shape)\n",
    "print(labels)\n",
    "\n",
    "print(\"Cluster 1: \")\n",
    "for f in range (0,nbFiles):\n",
    "    if labels[f]==0:\n",
    "        print(listFiles[f])\n",
    "print(\"Cluster 2: \")\n",
    "for f in range (0,nbFiles):\n",
    "    if labels[f]==1:\n",
    "        print(listFiles[f])"
   ]
  },
  {
   "cell_type": "markdown",
   "metadata": {},
   "source": [
    "<div id=\"back_7\">\n",
    "   <a href=\"#sol_7\">Go to one solution.</a>\n",
    "</div>"
   ]
  },
  {
   "cell_type": "markdown",
   "metadata": {},
   "source": [
    "<b>Conclusion</b><p>\n",
    "You can notice that with a simple feature extractor (such as LBP), an automatic system can cluster (no labelled data) some images into several clusters. Of course, this example performs well because those 2 types of images are very different. Let's look at a more generic process using <b>Transfer Learning</b> for the feature extraction task."
   ]
  },
  {
   "cell_type": "markdown",
   "metadata": {},
   "source": [
    "![de_lbp](img/dp_lbp.jpg)"
   ]
  },
  {
   "cell_type": "markdown",
   "metadata": {},
   "source": [
    "# <span style=\" display: block; text-align: center; color: #FFFFFF; padding: 0.4em 0.5em;background: #303030;\">  Solutions </span>"
   ]
  },
  {
   "cell_type": "markdown",
   "metadata": {},
   "source": [
    "<div id=\"sol_1\"/>\n"
   ]
  },
  {
   "cell_type": "markdown",
   "metadata": {},
   "source": [
    "# 1.1 Plot a LBP pattern"
   ]
  },
  {
   "cell_type": "code",
   "execution_count": 49,
   "metadata": {},
   "outputs": [],
   "source": [
    "#-------------------------------\n",
    "# FUNCTIONS\n",
    "#-------------------------------\n",
    "# 1.1 Plot a pattern (i value is between 0 and 255)\n",
    "def pattern (i) :\n",
    "    pattern_matrix = np.zeros((3,3))\n",
    "    if (i%2>0):pattern_matrix[0][0]=1\n",
    "    i = i // 2\n",
    "    if (i%2>0):pattern_matrix[0][1]=1\n",
    "    i = i // 2\n",
    "    if (i%2>0):pattern_matrix[0][2]=1\n",
    "    i = i // 2\n",
    "    if (i%2>0):pattern_matrix[1][2]=1\n",
    "    i = i // 2\n",
    "    if (i%2>0):pattern_matrix[2][2]=1\n",
    "    i = i // 2\n",
    "    if (i%2>0):pattern_matrix[2][1]=1\n",
    "    i = i // 2\n",
    "    if (i%2>0):pattern_matrix[2][0]=1\n",
    "    i = i // 2\n",
    "    if (i%2>0):pattern_matrix[1][0]=1\n",
    "    return pattern_matrix"
   ]
  },
  {
   "cell_type": "markdown",
   "metadata": {},
   "source": [
    "\n",
    "   <a href=\"#back_1\">Back.</a>\n"
   ]
  },
  {
   "cell_type": "markdown",
   "metadata": {},
   "source": [
    "<div id=\"sol_2\"/>"
   ]
  },
  {
   "cell_type": "markdown",
   "metadata": {},
   "source": [
    "# 1.1 Plot a LBP pattern (bis)"
   ]
  },
  {
   "cell_type": "markdown",
   "metadata": {},
   "source": [
    "Write down your propositions. We will discuss it later :)."
   ]
  },
  {
   "cell_type": "markdown",
   "metadata": {},
   "source": [
    "   <a href=\"#back_2\">Back.</a>"
   ]
  },
  {
   "cell_type": "markdown",
   "metadata": {},
   "source": [
    "<div id=\"sol_3\"/>"
   ]
  },
  {
   "cell_type": "markdown",
   "metadata": {},
   "source": [
    "# 1.2. LBP computation"
   ]
  },
  {
   "cell_type": "code",
   "execution_count": 52,
   "metadata": {},
   "outputs": [],
   "source": [
    "# 1.2 LBP computation on an image\n",
    "def lbp (img) :\n",
    "    img_lbp = np.zeros((len(img)-2, len(img[0])-2))\n",
    "    for i in range (1, len(img)-1):\n",
    "        for j in range(1, len(img[0])-1):\n",
    "            val = 0\n",
    "            if (img[i-1][j-1]>=img[i][j]): val = val+2**0\n",
    "            if (img[i][j-1]>=img[i][j]): val = val+2**1\n",
    "            if (img[i+1][j-1]>=img[i][j]): val = val+2**2\n",
    "            if (img[i-1][j]>=img[i][j]): val = val+2**7\n",
    "            if (img[i+1][j]>=img[i][j]): val = val+2**3\n",
    "            if (img[i-1][j+1]>=img[i][j]): val = val+2**6\n",
    "            if (img[i][j+1]>=img[i][j]): val = val+2**5\n",
    "            if (img[i+1][j+1]>=img[i][j]): val = val+2**4\n",
    "            img_lbp[i-1][j-1] = val\n",
    "    return img_lbp\n"
   ]
  },
  {
   "cell_type": "markdown",
   "metadata": {},
   "source": [
    "   <a href=\"#back_3\">Back.</a>"
   ]
  },
  {
   "cell_type": "markdown",
   "metadata": {},
   "source": [
    "<div id=\"sol_4\"/>"
   ]
  },
  {
   "cell_type": "markdown",
   "metadata": {},
   "source": [
    "# 1.3. Histogram of LBP patterns"
   ]
  },
  {
   "cell_type": "code",
   "execution_count": 55,
   "metadata": {},
   "outputs": [],
   "source": [
    "# 1.3 Histogram computation\n",
    "def histo (img) :\n",
    "    valhisto = np.zeros((256,1))\n",
    "    size = len(img)*len(img[0])\n",
    "    for i in range (0, len(img)):\n",
    "        for j in range(0, len(img[0])):\n",
    "            #print(int(img[i][j]))\n",
    "            valhisto[int(img[i][j])]+=1\n",
    "    return valhisto*100/size"
   ]
  },
  {
   "cell_type": "markdown",
   "metadata": {},
   "source": [
    "   <a href=\"#back_4\">Back.</a>"
   ]
  },
  {
   "cell_type": "markdown",
   "metadata": {},
   "source": [
    "<div id=\"sol_5\"/>"
   ]
  },
  {
   "cell_type": "markdown",
   "metadata": {},
   "source": [
    "# 2.1. Many images: visualization"
   ]
  },
  {
   "cell_type": "code",
   "execution_count": 60,
   "metadata": {},
   "outputs": [
    {
     "name": "stdout",
     "output_type": "stream",
     "text": [
      "The image number 0 is 281 pixels wide and 179 pixels high.\n",
      "The image number 1 is 265 pixels wide and 190 pixels high.\n",
      "The image number 2 is 612 pixels wide and 467 pixels high.\n",
      "The image number 3 is 1550 pixels wide and 804 pixels high.\n",
      "The image number 4 is 1800 pixels wide and 1198 pixels high.\n",
      "The image number 5 is 750 pixels wide and 500 pixels high.\n",
      "The image number 6 is 312 pixels wide and 162 pixels high.\n",
      "The image number 7 is 960 pixels wide and 640 pixels high.\n",
      "The image number 8 is 310 pixels wide and 162 pixels high.\n",
      "The image number 9 is 259 pixels wide and 194 pixels high.\n",
      "The image number 10 is 275 pixels wide and 184 pixels high.\n",
      "The image number 11 is 1000 pixels wide and 638 pixels high.\n",
      "The image number 12 is 275 pixels wide and 183 pixels high.\n",
      "The image number 13 is 1300 pixels wide and 866 pixels high.\n"
     ]
    },
    {
     "data": {
      "image/png": "[encoded data removed]",
      "text/plain": [
       "<Figure size 432x288 with 42 Axes>"
      ]
     },
     "metadata": {
      "needs_background": "light"
     },
     "output_type": "display_data"
    }
   ],
   "source": [
    "hist_matrix = np.zeros((nbFiles, 256))\n",
    "line = nbFiles//2\n",
    "hist_matrix = np.zeros((nbFiles, 256))\n",
    "\n",
    "for f in range (0,nbFiles):\n",
    "    i = f//2\n",
    "    j = f%2\n",
    "    img = cv2.imread(listFiles[f],cv2.IMREAD_GRAYSCALE)\n",
    "    print(\"The image number \" + str(f) + \" is \" + str(len(img[0])) + \" pixels wide and \" + str(len(img)) + \" pixels high.\")\n",
    "    plt.subplot(line,3*2,i*3*2+3*j+1),plt.imshow(img, cmap = 'gray'), plt.xticks([]), plt.yticks([])\n",
    "    img_lbp=lbp(img)\n",
    "    plt.subplot(line,3*2,i*3*2+3*j+2),plt.imshow(img_lbp, cmap = 'gray'), plt.xticks([]), plt.yticks([])\n",
    "    h = histo(img_lbp).flatten()\n",
    "    hist_matrix[f]= h\n",
    "    plt.subplot(line,3*2,i*3*2+3*j+3),plt.plot(h)"
   ]
  },
  {
   "cell_type": "markdown",
   "metadata": {},
   "source": [
    "   <a href=\"#back_5\">Back.</a>"
   ]
  },
  {
   "cell_type": "markdown",
   "metadata": {},
   "source": [
    "<div id=\"sol_6\"/>"
   ]
  },
  {
   "cell_type": "markdown",
   "metadata": {},
   "source": [
    "# 2.2. Comparison of LBP histograms"
   ]
  },
  {
   "cell_type": "code",
   "execution_count": 63,
   "metadata": {},
   "outputs": [
    {
     "name": "stdout",
     "output_type": "stream",
     "text": [
      "[[  0.  71.  26. 123.  60.  40.  31.  23.  30.  81.  82.  71.  86.  90.]\n",
      " [  0.   0.  68.  77.  64.  73.  74.  85.  79.  34.  25.  29.  26.  47.]\n",
      " [  0.   0.   0. 113.  37.  23.  18.  47.  21.  81.  76.  64.  82.  88.]\n",
      " [  0.   0.   0.   0.  98. 115. 119. 135. 121.  74.  71.  82.  68.  88.]\n",
      " [  0.   0.   0.   0.   0.  35.  42.  78.  48.  76.  68.  54.  72.  81.]\n",
      " [  0.   0.   0.   0.   0.   0.  20.  58.  25.  87.  82.  69.  87.  91.]\n",
      " [  0.   0.   0.   0.   0.   0.   0.  51.  17.  87.  84.  73.  88.  91.]\n",
      " [  0.   0.   0.   0.   0.   0.   0.   0.  47.  93.  94.  83.  97. 103.]\n",
      " [  0.   0.   0.   0.   0.   0.   0.   0.   0.  91.  86.  76.  92.  97.]\n",
      " [  0.   0.   0.   0.   0.   0.   0.   0.   0.   0.  36.  40.  31.  61.]\n",
      " [  0.   0.   0.   0.   0.   0.   0.   0.   0.   0.   0.  27.  22.  42.]\n",
      " [  0.   0.   0.   0.   0.   0.   0.   0.   0.   0.   0.   0.  29.  40.]\n",
      " [  0.   0.   0.   0.   0.   0.   0.   0.   0.   0.   0.   0.   0.  45.]\n",
      " [  0.   0.   0.   0.   0.   0.   0.   0.   0.   0.   0.   0.   0.   0.]]\n"
     ]
    }
   ],
   "source": [
    "#-------------------------------\n",
    "# 2.2 COMPARISON OF LBP HISTOGRAMS\n",
    "#-------------------------------\n",
    "dist_matrix = np.zeros((len(hist_matrix), len(hist_matrix)))\n",
    "for i in range (0,len(hist_matrix)):\n",
    "    for j in range (i+1,len(hist_matrix)):\n",
    "        dist_matrix[i][j] = int(np.sum(np.absolute(hist_matrix[i]-hist_matrix[j])))\n",
    "print(dist_matrix)"
   ]
  },
  {
   "cell_type": "markdown",
   "metadata": {},
   "source": [
    "   <a href=\"#back_6\">Back.</a>"
   ]
  },
  {
   "cell_type": "markdown",
   "metadata": {},
   "source": [
    "<div id=\"sol_7\"/>"
   ]
  },
  {
   "cell_type": "markdown",
   "metadata": {},
   "source": [
    "# 2.3. Automatic Clustering"
   ]
  },
  {
   "cell_type": "code",
   "execution_count": 66,
   "metadata": {},
   "outputs": [
    {
     "name": "stdout",
     "output_type": "stream",
     "text": [
      "(14, 256)\n",
      "(14, 1)\n",
      "(2, 256)\n",
      "[[1]\n",
      " [0]\n",
      " [1]\n",
      " [0]\n",
      " [1]\n",
      " [1]\n",
      " [1]\n",
      " [1]\n",
      " [1]\n",
      " [0]\n",
      " [0]\n",
      " [0]\n",
      " [0]\n",
      " [0]]\n",
      "Cluster 1: \n",
      "img/sea2.jpg\n",
      "img/sea4.jpg\n",
      "img/sea1.jpg\n",
      "img/sea3.jpg\n",
      "img/sea5.jpeg\n",
      "img/sea6.jpeg\n",
      "img/sea7.jpg\n",
      "Cluster 2: \n",
      "img/forest1.jpg\n",
      "img/forest2.jpg\n",
      "img/forest4.jpg\n",
      "img/forest5.jpg\n",
      "img/forest6.jpg\n",
      "img/forest3.jpg\n",
      "img/forest7.jpg\n"
     ]
    }
   ],
   "source": [
    "#-------------------------------\n",
    "# 2.3 AUTOMATIC CLUSTERING\n",
    "#-------------------------------\n",
    "criteria = (cv2.TERM_CRITERIA_EPS + cv2.TERM_CRITERIA_MAX_ITER, 10, 1.0)\n",
    "K = 2\n",
    "z = hist_matrix\n",
    "z = np.float32(z)\n",
    "print(z.shape)\n",
    "compactness,labels,centers=cv2.kmeans(z,K,None,criteria,10,cv2.KMEANS_RANDOM_CENTERS)\n",
    "print(labels.shape)\n",
    "print(centers.shape)\n",
    "print(labels)\n",
    "\n",
    "print(\"Cluster 1: \")\n",
    "for f in range (0,nbFiles):\n",
    "    if labels[f]==0:\n",
    "        print(listFiles[f])\n",
    "print(\"Cluster 2: \")\n",
    "for f in range (0,nbFiles):\n",
    "    if labels[f]==1:\n",
    "        print(listFiles[f])"
   ]
  },
  {
   "cell_type": "markdown",
   "metadata": {},
   "source": [
    "   <a href=\"#back_7\">Back.</a>"
   ]
  },
  {
   "cell_type": "code",
   "execution_count": null,
   "metadata": {},
   "outputs": [],
   "source": []
  }
 ],
 "metadata": {
  "celltoolbar": "Format de la Cellule Texte Brut",
  "kernelspec": {
   "display_name": "Python 3",
   "language": "python",
   "name": "python3"
  },
  "language_info": {
   "codemirror_mode": {
    "name": "ipython",
    "version": 3
   },
   "file_extension": ".py",
   "mimetype": "text/x-python",
   "name": "python",
   "nbconvert_exporter": "python",
   "pygments_lexer": "ipython3",
   "version": "3.8.5"
  }
 },
 "nbformat": 4,
 "nbformat_minor": 2
}
