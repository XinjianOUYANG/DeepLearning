{
 "cells": [
  {
   "cell_type": "markdown",
   "metadata": {},
   "source": [
    "# <span style=\" display: block; text-align: center; color: #FFFFFF; padding: 0.4em 0.5em;background: #303030;\">  Compression with DWT  </span>\n",
    "\n",
    "\n",
    "\n"
   ]
  },
  {
   "cell_type": "markdown",
   "metadata": {},
   "source": [
    "# <span style=\"padding: 0.4em 0.5em; color: #494949; background: #f4f4f4; border-left: solid 5px #7db4e6; border-bottom: solid 3px #d7d7d7;\">1. Compression of an image</span>"
   ]
  },
  {
   "cell_type": "markdown",
   "metadata": {},
   "source": [
    "The DWT image has a lot of zeros/low values, that do not carry relevant visual information of the image.\n",
    "<p/>\n",
    "<img src=\"img/dwtLena.png\" width=600>\n",
    "<p/>\n",
    "Then we can compress (zip it) with a higher rate than the original bmp image. That is what you will verify in this section!\n",
    "\n",
    "Note that this should be true for Lena image, but maybe not for imSynth image, which already have lots of 0 and identical values :).\n"
   ]
  },
  {
   "cell_type": "markdown",
   "metadata": {},
   "source": [
    "\n",
    "## <span style=\"border-bottom: double 5px #7db4e6; color: #494949;\">1.1. Zip the original bmp image</span>"
   ]
  },
  {
   "cell_type": "markdown",
   "metadata": {},
   "source": [
    "Zip the original bpm Lena file and compare the size of this zipped file with the size of the original bmp file.\n",
    "What can you notice?"
   ]
  },
  {
   "cell_type": "markdown",
   "metadata": {},
   "source": [
    "\n",
    "<div id=\"back_1\">\n",
    "   <a href=\"#sol_1\">Go to one solution.</a>\n",
    "</div>\n"
   ]
  },
  {
   "cell_type": "markdown",
   "metadata": {},
   "source": [
    "## <span style=\"border-bottom: double 5px #7db4e6; color: #494949;\">1.2. Build a DWT image using quantization</span>"
   ]
  },
  {
   "cell_type": "markdown",
   "metadata": {},
   "source": [
    "In this section, we want to save the dwt image in a file (to compress it and analyse the compression rate). \n",
    "\n",
    "To do that, we will use the following code:\n",
    "<p/>\n",
    "<img src=\"img/code10.png\" width=600>\n",
    "<p/>\n",
    "We put the previous code in functions (decomposition, reconstruction) and add some new code for saving dwt image purpose. You can find the code to complete here.\n",
    "\n"
   ]
  },
  {
   "cell_type": "code",
   "execution_count": 16,
   "metadata": {},
   "outputs": [
    {
     "name": "stdout",
     "output_type": "stream",
     "text": [
      "\n",
      "Image with max amplitude : 255\n",
      "Starting decomposition...\n"
     ]
    },
    {
     "ename": "NameError",
     "evalue": "name 'downsamplOneDirection' is not defined",
     "output_type": "error",
     "traceback": [
      "\u001b[0;31m---------------------------------------------------------------------------\u001b[0m",
      "\u001b[0;31mNameError\u001b[0m                                 Traceback (most recent call last)",
      "\u001b[0;32m<ipython-input-16-08b4244352a9>\u001b[0m in \u001b[0;36m<module>\u001b[0;34m\u001b[0m\n\u001b[1;32m      8\u001b[0m \u001b[0;34m\u001b[0m\u001b[0m\n\u001b[1;32m      9\u001b[0m \u001b[0;31m# encoding\u001b[0m\u001b[0;34m\u001b[0m\u001b[0;34m\u001b[0m\u001b[0;34m\u001b[0m\u001b[0m\n\u001b[0;32m---> 10\u001b[0;31m \u001b[0;34m[\u001b[0m\u001b[0mimgLL1\u001b[0m\u001b[0;34m,\u001b[0m \u001b[0mimgLH1\u001b[0m\u001b[0;34m,\u001b[0m \u001b[0mimgHL1\u001b[0m\u001b[0;34m,\u001b[0m \u001b[0mimgHH1\u001b[0m\u001b[0;34m]\u001b[0m \u001b[0;34m=\u001b[0m \u001b[0muf\u001b[0m\u001b[0;34m.\u001b[0m\u001b[0mdecomposition\u001b[0m\u001b[0;34m(\u001b[0m\u001b[0mimg\u001b[0m\u001b[0;34m)\u001b[0m\u001b[0;34m\u001b[0m\u001b[0;34m\u001b[0m\u001b[0m\n\u001b[0m\u001b[1;32m     11\u001b[0m \u001b[0;34m\u001b[0m\u001b[0m\n\u001b[1;32m     12\u001b[0m \u001b[0;31m# Plot and Save image from subbands\u001b[0m\u001b[0;34m\u001b[0m\u001b[0;34m\u001b[0m\u001b[0;34m\u001b[0m\u001b[0m\n",
      "\u001b[0;32m~/Desktop/ST7/B_CoursImageEtSon/2020-2021/BE8 Filtering & Wavelet/Notebook V1.1/waveletsaveimage.py\u001b[0m in \u001b[0;36mdecomposition\u001b[0;34m(img)\u001b[0m\n\u001b[1;32m     56\u001b[0m \u001b[0;34m\u001b[0m\u001b[0m\n\u001b[1;32m     57\u001b[0m \u001b[0;34m\u001b[0m\u001b[0m\n\u001b[0;32m---> 58\u001b[0;31m \u001b[0;34m\u001b[0m\u001b[0m\n\u001b[0m\u001b[1;32m     59\u001b[0m \u001b[0;34m\u001b[0m\u001b[0m\n\u001b[1;32m     60\u001b[0m     \u001b[0;31m# Decomposition\u001b[0m\u001b[0;34m\u001b[0m\u001b[0;34m\u001b[0m\u001b[0;34m\u001b[0m\u001b[0m\n",
      "\u001b[0;31mNameError\u001b[0m: name 'downsamplOneDirection' is not defined"
     ]
    }
   ],
   "source": [
    "from waveletsaveimage import usefullDwtFunctions as uf\n",
    "from waveletsaveimage import im\n",
    "\n",
    "#------------------------------\n",
    "# MAIN PROCESS SAVING IMAGE WITH DWT\n",
    "# Save data in a file and rebuild\n",
    "#------------------------------\n",
    "coefMult = 8\n",
    "\n",
    "# encoding \n",
    "[imgLL1, imgLH1, imgHL1, imgHH1] = uf.decomposition(img)\n",
    "\n",
    "# Plot and Save image from subbands\n",
    "[imgdwt, listoffsets] = uf.saveImageFromSubBands(imgLL1, imgLH1, imgHL1, imgHH1, \"dwt\")\n",
    "plt.figure()\n",
    "plt.imshow(imgdwt, cmap = 'gray')\n",
    "plt.show()\n",
    "\n",
    "# Open dwt image\n",
    "[imgLL1, imgLH1, imgHL1, imgHH1] = uf.openImageGetSubBands(\"dwt.bmp\", listoffsets) # we should save the listoffsets in the header of the image :)\n",
    "\n",
    "# reconstruction\n",
    "imgR1 = reconstruction(imgLL1, imgLH1, imgHL1, imgHH1)\n",
    "verification(img, 'orig', imgR1//coefMult**4, 'dwt after reconstruction', 6)"
   ]
  },
  {
   "cell_type": "markdown",
   "metadata": {},
   "source": [
    "<div id=\"back_2\">\n",
    "   <a href=\"#sol_2\">Go to one solution.</a>\n",
    "</div>"
   ]
  },
  {
   "cell_type": "markdown",
   "metadata": {},
   "source": [
    "### <span style=\"\">1.2.1. Understand the values of each sub-band</span>"
   ]
  },
  {
   "cell_type": "markdown",
   "metadata": {},
   "source": [
    "LL, LH, HL and HH are called sub-bands, for they result from different filters. Observe the values of each subband. For instance, for Lena, the maximum and minimum values are:\n",
    "<p/>\n",
    "<img src=\"img/code11.png\" width=600>\n",
    "<p/>\n",
    "Explain those values."
   ]
  },
  {
   "cell_type": "markdown",
   "metadata": {},
   "source": [
    "### <span style=\"\">1.2.2.  Understand the quantization function</span>"
   ]
  },
  {
   "cell_type": "markdown",
   "metadata": {},
   "source": [
    "To save the dwt image (LL, HL, LH, and HH) as a bmp with the same size as the original, we should quantify the signal is 8 bits (values between 0 and 255). \n",
    "\n",
    "One solution is proposed in the code. Read and understand this solution:\n",
    "    <p/>\n",
    "<img src=\"img/code12.png\" width=600>\n",
    "<p/>"
   ]
  },
  {
   "cell_type": "markdown",
   "metadata": {},
   "source": [
    "### <span style=\"\">1.2.3. Save the dwt image in a bmp file</span>"
   ]
  },
  {
   "cell_type": "markdown",
   "metadata": {},
   "source": [
    "Then complete the code for saving the dwt image:"
   ]
  },
  {
   "cell_type": "code",
   "execution_count": null,
   "metadata": {},
   "outputs": [],
   "source": []
  },
  {
   "cell_type": "markdown",
   "metadata": {},
   "source": [
    "Verify that the dwt bmp file is saved on your disk. Open it to verify the image.\n",
    "\n",
    "One solution can be found here."
   ]
  },
  {
   "cell_type": "markdown",
   "metadata": {},
   "source": [
    "## <span style=\"border-bottom: double 5px #7db4e6; color: #494949;\">1.3. Zip the DWT image</span>"
   ]
  },
  {
   "cell_type": "markdown",
   "metadata": {},
   "source": [
    "Zip the dwt bpm Lena file and compare it with the previous sizes you look at.\n",
    "What do you notice? How can you explain it?\n",
    "\n",
    "Verify the reconstruction of the image from the data of the dwt file.\n",
    "What do you notice? How can you explain it? "
   ]
  },
  {
   "cell_type": "markdown",
   "metadata": {},
   "source": [
    "<div id=\"back_3\">\n",
    "   <a href=\"#sol_3\">Go to one solution.</a>\n",
    "</div>"
   ]
  },
  {
   "cell_type": "markdown",
   "metadata": {},
   "source": [
    "# <span style=\"padding: 0.4em 0.5em; color: #494949; background: #f4f4f4; border-left: solid 5px #7db4e6; border-bottom: solid 3px #d7d7d7;\">2. Towards JPEG200</span>"
   ]
  },
  {
   "cell_type": "markdown",
   "metadata": {},
   "source": [
    "Dwt is used in JPEG2000. One of the main difference with JPEG is the use of wavelets.\n",
    "\n",
    "\n",
    "Many other solutions can be imagine to reduce the number of information (compression). Let's look at some of them."
   ]
  },
  {
   "cell_type": "markdown",
   "metadata": {
    "tags": [
     "hide-cell"
    ]
   },
   "source": [
    "<div id=\"back_4\">\n",
    "   <a href=\"#sol_4\">Go to one solution.</a>\n",
    "</div>"
   ]
  },
  {
   "cell_type": "markdown",
   "metadata": {},
   "source": [
    "## <span style=\"border-bottom: double 5px #7db4e6; color: #494949;\">2.1. Multi-resolution encoding</span>"
   ]
  },
  {
   "cell_type": "markdown",
   "metadata": {},
   "source": [
    "Using dwt, most of the information is encoded in LL sub-band. Multi-resolution encoding consist at performing iteratively dwt on the LL sub-bands.\n",
    "\n",
    "The resulting image for a 3 level decomposition is:\n",
    "    <img src=\"img/lena3decomp.png\" width=600>"
   ]
  },
  {
   "cell_type": "markdown",
   "metadata": {},
   "source": [
    "## <span style=\"border-bottom: double 5px #7db4e6; color: #494949;\">2.2. Quantization of sub-bands</span>"
   ]
  },
  {
   "cell_type": "markdown",
   "metadata": {},
   "source": [
    "We can also imagine a better quantization of sub-bands that the one proposed.\n",
    "\n",
    "For instance, the number of bits can be lower for HL, LH and HH sub-bands, for they contain less relevant information.\n",
    "\n",
    "Having a 1-level decomposition with: 8 bits for LL, 7 bits for HL and LH and 5 bits for HH will reduce the size of the bmp image (even before zip compression) from 32 768 to 27 648, with few loss. If we couple that with multi-resolution, we can gain even more."
   ]
  },
  {
   "cell_type": "markdown",
   "metadata": {},
   "source": [
    "<div id=\"back_5\">\n",
    "   <a href=\"#sol_5\">Go to one solution.</a>\n",
    "</div>"
   ]
  },
  {
   "cell_type": "markdown",
   "metadata": {},
   "source": [
    "# <span style=\" display: block; text-align: center; color: #FFFFFF; padding: 0.4em 0.5em;background: #303030;\">  Solutions </span>"
   ]
  },
  {
   "cell_type": "markdown",
   "metadata": {},
   "source": [
    "<div id=\"sol_1\"/>\n"
   ]
  },
  {
   "cell_type": "markdown",
   "metadata": {},
   "source": [
    "# 1.1 Zip the original bmp image"
   ]
  },
  {
   "cell_type": "markdown",
   "metadata": {},
   "source": [
    "The size of the images is:\n",
    "\n",
    "<ul>\n",
    "    <li>910Ko for the original image</li>\n",
    "    <li>886Ko for the image zipped</li>\n",
    "</ul>\n",
    "The difference is not that big! Can we have a better compression with DWT? :)"
   ]
  },
  {
   "cell_type": "markdown",
   "metadata": {},
   "source": [
    "\n",
    "   <a href=\"#back_1\">Back.</a>\n"
   ]
  },
  {
   "cell_type": "markdown",
   "metadata": {},
   "source": [
    "<div id=\"sol_2\"/>"
   ]
  },
  {
   "cell_type": "markdown",
   "metadata": {},
   "source": [
    "# 1.2 Downsampling in one direction"
   ]
  },
  {
   "cell_type": "code",
   "execution_count": 6,
   "metadata": {},
   "outputs": [],
   "source": [
    "# Downsampling in one direction\n",
    "def downsamplOneDirection(img,firstPoint): \n",
    "    img_downsampl = np.zeros((len(img), len(img[0])//2))\n",
    "    for i in range (0, len(img)):\n",
    "        for j in range (0, len(img[0])//2):\n",
    "            img_downsampl[i][j] = img[i][2*j+firstPoint]\n",
    "    return img_downsampl"
   ]
  },
  {
   "cell_type": "markdown",
   "metadata": {},
   "source": [
    "   <a href=\"#back_2\">Back.</a>"
   ]
  },
  {
   "cell_type": "markdown",
   "metadata": {},
   "source": [
    "<div id=\"sol_3\"/>"
   ]
  },
  {
   "cell_type": "markdown",
   "metadata": {},
   "source": [
    "# 1.3 Decomposition"
   ]
  },
  {
   "cell_type": "code",
   "execution_count": 10,
   "metadata": {},
   "outputs": [
    {
     "name": "stdout",
     "output_type": "stream",
     "text": [
      "\n",
      "Image with max amplitude : 255\n",
      "Starting decomposition...\n",
      "Decommposition finished\n",
      "Max amplitude of integer images are : 255 2295.0 1020.0 19380.0 10200.0 10200.0 12240.0\n",
      "The images are 32 pixels wide and 32 pixels high.\n"
     ]
    },
    {
     "data": {
      "image/png": "[encoded data removed]",
      "text/plain": [
       "<Figure size 432x288 with 7 Axes>"
      ]
     },
     "metadata": {},
     "output_type": "display_data"
    }
   ],
   "source": [
    "#-------------------------------\n",
    "# DECOMPOSITION\n",
    "#-------------------------------\n",
    "# Decomposition\n",
    "print(\"\")\n",
    "print(\"Image with max amplitude : \" + str(np.max(img)))\n",
    "print(\"Starting decomposition...\")\n",
    "coefMult = 8 # to keep integer for computation\n",
    "kernelL = [-1, 2, 6, 2, -1] # coefMult*[-1, 2, 6, 2, -1]/8\n",
    "kernelH = [-4, 8, -4] # coefMult*[-1, 2, -1]/2\n",
    "firstPointL = 0 # first pixel for low pass filters\n",
    "firstPointH = 1 # second pixel for high pass filters\n",
    "\n",
    "imgL = downsamplOneDirection(convOneDirection(img, kernelL), firstPointL) # LossPass Filter on width + downsample by 2\n",
    "imgLcopy = mirrorMatrix(deepcopy(imgL))\n",
    "imgLL = mirrorMatrix(downsamplOneDirection(convOneDirection(imgLcopy, kernelL), firstPointL)) # LossPass Filter on height + downsample by 2\n",
    "imgLH = mirrorMatrix(downsamplOneDirection(convOneDirection(imgLcopy, kernelH), firstPointH)) # HighPass Filter on height + downsample by 2\n",
    "imgH = downsamplOneDirection(convOneDirection(img, kernelH), firstPointH) # LossPass Filter on width + downsample by 2\n",
    "imgHcopy = mirrorMatrix(deepcopy(imgH))\n",
    "imgHL = mirrorMatrix(downsamplOneDirection(convOneDirection(imgHcopy, kernelL), firstPointL)) # LossPass Filter on height + downsample by 2\n",
    "imgHH = mirrorMatrix(downsamplOneDirection(convOneDirection(imgHcopy, kernelH), firstPointH)) # HighPass Filter on height + downsample by 2\n",
    "\n",
    "print(\"Decommposition finished\")\n",
    "print(\"Max amplitude of integer images are : \" + str(np.max(img)) + \" \" + str(np.max(imgL))+ \" \" + str(np.max(imgH))+ \" \" + str(np.max(imgLL))+ \" \" + str(np.max(imgLH))+ \" \" + str(np.max(imgHL))+ \" \" + str(np.max(imgHH)))\n",
    "print(\"The images are \" + str(len(imgLL[0])) + \" pixels wide and \" + str(len(imgLL)) + \" pixels high.\")\n",
    "\n",
    "# Verify by plotting the different images:\n",
    "plt.subplot(1,4,1),plt.imshow(img, cmap = 'gray'), plt.xticks([]), plt.yticks([])\n",
    "plt.subplot(2,8,3),plt.imshow(imgL, cmap = 'gray'), plt.xticks([]), plt.yticks([])\n",
    "plt.subplot(2,8,11),plt.imshow(imgH, cmap = 'gray'), plt.xticks([]), plt.yticks([])\n",
    "plt.subplot(4,8,4),plt.imshow(imgLL, cmap = 'gray'), plt.xticks([]), plt.yticks([])\n",
    "plt.subplot(4,8,12),plt.imshow(imgLH, cmap = 'gray'), plt.xticks([]), plt.yticks([])\n",
    "plt.subplot(4,8,20),plt.imshow(imgHL, cmap = 'gray'), plt.xticks([]), plt.yticks([])\n",
    "plt.subplot(4,8,28),plt.imshow(imgHH, cmap = 'gray'), plt.xticks([]), plt.yticks([])\n",
    "plt.show()"
   ]
  },
  {
   "cell_type": "markdown",
   "metadata": {},
   "source": [
    "   <a href=\"#back_3\">Back.</a>"
   ]
  },
  {
   "cell_type": "markdown",
   "metadata": {},
   "source": [
    "<div id=\"sol_4\"/>"
   ]
  },
  {
   "cell_type": "markdown",
   "metadata": {},
   "source": [
    "# 2.1 Reconstruction"
   ]
  },
  {
   "cell_type": "code",
   "execution_count": 13,
   "metadata": {},
   "outputs": [
    {
     "name": "stdout",
     "output_type": "stream",
     "text": [
      "\n",
      "Starting recontruction...\n",
      "Reconstruction finished\n",
      "Max amplitude of integer images are : 155040.0 61200.0 81600.0 73440.0 146880.0 65280.0 1175040.0 391680.0 1044480.0\n",
      "The image is 64 pixels wide and 64 pixels high.\n"
     ]
    },
    {
     "data": {
      "image/png": "[encoded data removed]",
      "text/plain": [
       "<Figure size 432x288 with 3 Axes>"
      ]
     },
     "metadata": {},
     "output_type": "display_data"
    }
   ],
   "source": [
    "#-------------------------------\n",
    "# RECONSTRUCTION\n",
    "#-------------------------------\n",
    "# Reconstruction\n",
    "print(\"\")\n",
    "print(\"Starting recontruction...\")\n",
    "kernelH = [-1, -2, 6, -2, -1] # coefMult*[-1, -2, 6, -2, -1]/8\n",
    "kernelL = [4, 8, 4] # coefMult*[1, 2, 1]/2\n",
    "irstPointL = 0 # first pixel for low pass filters\n",
    "firstPointH = 1 # second pixel for high pass filters\n",
    "\n",
    "imgRL1 = convOneDirection(upsamplOneDirection(mirrorMatrix(imgLL),firstPointL), kernelL)\n",
    "imgRL2 = convOneDirection(upsamplOneDirection(mirrorMatrix(imgLH),firstPointH), kernelH)\n",
    "imgRL = mirrorMatrix(imgRL1+imgRL2)\n",
    "imgRH1 = convOneDirection(upsamplOneDirection(mirrorMatrix(imgHL),firstPointL), kernelL) \n",
    "imgRH2 = convOneDirection(upsamplOneDirection(mirrorMatrix(imgHH),firstPointH), kernelH) \n",
    "imgRH = mirrorMatrix(imgRH1+imgRH2)\n",
    "imgR1 = convOneDirection(upsamplOneDirection(imgRL,firstPointL), kernelL)\n",
    "imgR2 = convOneDirection(upsamplOneDirection(imgRH,firstPointH), kernelH)\n",
    "imgR = imgR1 + imgR2\n",
    "plt.subplot(2, 8, 6),plt.imshow(imgRL, cmap = 'gray'), plt.xticks([]), plt.yticks([])\n",
    "plt.subplot(2, 8, 14),plt.imshow(imgRH, cmap = 'gray'), plt.xticks([]), plt.yticks([])\n",
    "plt.subplot(1, 4, 4),plt.imshow(imgR, cmap = 'gray'), plt.xticks([]), plt.yticks([])\n",
    "print(\"Reconstruction finished\")\n",
    "print(\"Max amplitude of integer images are : \" + str(np.max(imgRL1)) + \" \" + str(np.max(imgRL2))+ \" \" + str(np.max(imgRH1))+ \" \" + str(np.max(imgRH2))+ \" \" + str(np.max(imgRL))+ \" \" + str(np.max(imgRH))+ \" \" + str(np.max(imgR1))+ \" \" + str(np.max(imgR2))+ \" \" + str(np.max(imgR)))\n",
    "print(\"The image is \" + str(len(imgR[0])) + \" pixels wide and \" + str(len(imgR)) + \" pixels high.\")\n",
    "plt.show()"
   ]
  },
  {
   "cell_type": "markdown",
   "metadata": {},
   "source": [
    "   <a href=\"#back_4\">Back.</a>"
   ]
  },
  {
   "cell_type": "markdown",
   "metadata": {},
   "source": [
    "<div id=\"sol_5\"/>"
   ]
  },
  {
   "cell_type": "markdown",
   "metadata": {},
   "source": [
    "# 2.2 Verification"
   ]
  },
  {
   "cell_type": "code",
   "execution_count": 15,
   "metadata": {},
   "outputs": [
    {
     "name": "stdout",
     "output_type": "stream",
     "text": [
      "\n",
      "Starting verification...\n",
      "Mask delta value : 0.0\n"
     ]
    },
    {
     "data": {
      "image/png": "[encoded data removed]",
      "text/plain": [
       "<Figure size 432x288 with 1 Axes>"
      ]
     },
     "metadata": {},
     "output_type": "display_data"
    }
   ],
   "source": [
    "#-------------------------------\n",
    "# VERIFICATION\n",
    "#-------------------------------\n",
    "imgRCoef = imgR//coefMult**4 # coefMult**4 is due to the fact that we keep integers before - see kernel values\n",
    "print(\"\")\n",
    "print(\"Starting verification...\")\n",
    "edge = 3\n",
    "maskVerif = np.abs((img-imgRCoef)[edge:len(img)-edge, edge:len(img[0])-edge]) # difference between the 2 images, without the edges \n",
    "print(\"Mask delta value : \" + str(np.max(maskVerif)) )\n",
    "maskVerif[0][0] = 0; maskVerif[0][1] = 255 # to avoid min-max equalization from matplotlib :)\n",
    "plt.imshow(maskVerif, cmap = 'gray'), plt.xticks([]), plt.yticks([])\n",
    "plt.show()"
   ]
  },
  {
   "cell_type": "markdown",
   "metadata": {},
   "source": [
    "   <a href=\"#back_5\">Back.</a>"
   ]
  },
  {
   "cell_type": "code",
   "execution_count": null,
   "metadata": {},
   "outputs": [],
   "source": []
  }
 ],
 "metadata": {
  "celltoolbar": "Format de la Cellule Texte Brut",
  "kernelspec": {
   "display_name": "Python 3",
   "language": "python",
   "name": "python3"
  },
  "language_info": {
   "codemirror_mode": {
    "name": "ipython",
    "version": 3
   },
   "file_extension": ".py",
   "mimetype": "text/x-python",
   "name": "python",
   "nbconvert_exporter": "python",
   "pygments_lexer": "ipython3",
   "version": "3.7.4"
  }
 },
 "nbformat": 4,
 "nbformat_minor": 2
}
